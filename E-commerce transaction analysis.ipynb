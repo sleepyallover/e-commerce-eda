{
 "cells": [
  {
   "cell_type": "markdown",
   "metadata": {},
   "source": [
    "The dataset is acquired from kaggle (https://www.kaggle.com/carrie1/ecommerce-data)"
   ]
  },
  {
   "cell_type": "code",
   "execution_count": 1,
   "metadata": {},
   "outputs": [],
   "source": [
    "import pandas as pd\n",
    "import numpy as np\n",
    "import matplotlib.pyplot as plt\n",
    "import seaborn as sns\n",
    "\n",
    "%matplotlib inline"
   ]
  },
  {
   "cell_type": "code",
   "execution_count": 2,
   "metadata": {},
   "outputs": [],
   "source": [
    "df=pd.read_csv('data.csv', encoding= 'unicode_escape')"
   ]
  },
  {
   "cell_type": "code",
   "execution_count": 3,
   "metadata": {},
   "outputs": [
    {
     "data": {
      "text/html": [
       "<div>\n",
       "<style scoped>\n",
       "    .dataframe tbody tr th:only-of-type {\n",
       "        vertical-align: middle;\n",
       "    }\n",
       "\n",
       "    .dataframe tbody tr th {\n",
       "        vertical-align: top;\n",
       "    }\n",
       "\n",
       "    .dataframe thead th {\n",
       "        text-align: right;\n",
       "    }\n",
       "</style>\n",
       "<table border=\"1\" class=\"dataframe\">\n",
       "  <thead>\n",
       "    <tr style=\"text-align: right;\">\n",
       "      <th></th>\n",
       "      <th>InvoiceNo</th>\n",
       "      <th>StockCode</th>\n",
       "      <th>Description</th>\n",
       "      <th>Quantity</th>\n",
       "      <th>InvoiceDate</th>\n",
       "      <th>UnitPrice</th>\n",
       "      <th>CustomerID</th>\n",
       "      <th>Country</th>\n",
       "    </tr>\n",
       "  </thead>\n",
       "  <tbody>\n",
       "    <tr>\n",
       "      <th>0</th>\n",
       "      <td>536365</td>\n",
       "      <td>85123A</td>\n",
       "      <td>WHITE HANGING HEART T-LIGHT HOLDER</td>\n",
       "      <td>6</td>\n",
       "      <td>12/1/2010 8:26</td>\n",
       "      <td>2.55</td>\n",
       "      <td>17850.0</td>\n",
       "      <td>United Kingdom</td>\n",
       "    </tr>\n",
       "    <tr>\n",
       "      <th>1</th>\n",
       "      <td>536365</td>\n",
       "      <td>71053</td>\n",
       "      <td>WHITE METAL LANTERN</td>\n",
       "      <td>6</td>\n",
       "      <td>12/1/2010 8:26</td>\n",
       "      <td>3.39</td>\n",
       "      <td>17850.0</td>\n",
       "      <td>United Kingdom</td>\n",
       "    </tr>\n",
       "    <tr>\n",
       "      <th>2</th>\n",
       "      <td>536365</td>\n",
       "      <td>84406B</td>\n",
       "      <td>CREAM CUPID HEARTS COAT HANGER</td>\n",
       "      <td>8</td>\n",
       "      <td>12/1/2010 8:26</td>\n",
       "      <td>2.75</td>\n",
       "      <td>17850.0</td>\n",
       "      <td>United Kingdom</td>\n",
       "    </tr>\n",
       "    <tr>\n",
       "      <th>3</th>\n",
       "      <td>536365</td>\n",
       "      <td>84029G</td>\n",
       "      <td>KNITTED UNION FLAG HOT WATER BOTTLE</td>\n",
       "      <td>6</td>\n",
       "      <td>12/1/2010 8:26</td>\n",
       "      <td>3.39</td>\n",
       "      <td>17850.0</td>\n",
       "      <td>United Kingdom</td>\n",
       "    </tr>\n",
       "    <tr>\n",
       "      <th>4</th>\n",
       "      <td>536365</td>\n",
       "      <td>84029E</td>\n",
       "      <td>RED WOOLLY HOTTIE WHITE HEART.</td>\n",
       "      <td>6</td>\n",
       "      <td>12/1/2010 8:26</td>\n",
       "      <td>3.39</td>\n",
       "      <td>17850.0</td>\n",
       "      <td>United Kingdom</td>\n",
       "    </tr>\n",
       "  </tbody>\n",
       "</table>\n",
       "</div>"
      ],
      "text/plain": [
       "  InvoiceNo StockCode                          Description  Quantity  \\\n",
       "0    536365    85123A   WHITE HANGING HEART T-LIGHT HOLDER         6   \n",
       "1    536365     71053                  WHITE METAL LANTERN         6   \n",
       "2    536365    84406B       CREAM CUPID HEARTS COAT HANGER         8   \n",
       "3    536365    84029G  KNITTED UNION FLAG HOT WATER BOTTLE         6   \n",
       "4    536365    84029E       RED WOOLLY HOTTIE WHITE HEART.         6   \n",
       "\n",
       "      InvoiceDate  UnitPrice  CustomerID         Country  \n",
       "0  12/1/2010 8:26       2.55     17850.0  United Kingdom  \n",
       "1  12/1/2010 8:26       3.39     17850.0  United Kingdom  \n",
       "2  12/1/2010 8:26       2.75     17850.0  United Kingdom  \n",
       "3  12/1/2010 8:26       3.39     17850.0  United Kingdom  \n",
       "4  12/1/2010 8:26       3.39     17850.0  United Kingdom  "
      ]
     },
     "execution_count": 3,
     "metadata": {},
     "output_type": "execute_result"
    }
   ],
   "source": [
    "df.head()"
   ]
  },
  {
   "cell_type": "code",
   "execution_count": 4,
   "metadata": {},
   "outputs": [
    {
     "name": "stdout",
     "output_type": "stream",
     "text": [
      "<class 'pandas.core.frame.DataFrame'>\n",
      "RangeIndex: 541909 entries, 0 to 541908\n",
      "Data columns (total 8 columns):\n",
      " #   Column       Non-Null Count   Dtype  \n",
      "---  ------       --------------   -----  \n",
      " 0   InvoiceNo    541909 non-null  object \n",
      " 1   StockCode    541909 non-null  object \n",
      " 2   Description  540455 non-null  object \n",
      " 3   Quantity     541909 non-null  int64  \n",
      " 4   InvoiceDate  541909 non-null  object \n",
      " 5   UnitPrice    541909 non-null  float64\n",
      " 6   CustomerID   406829 non-null  float64\n",
      " 7   Country      541909 non-null  object \n",
      "dtypes: float64(2), int64(1), object(5)\n",
      "memory usage: 33.1+ MB\n"
     ]
    }
   ],
   "source": [
    "df.info()"
   ]
  },
  {
   "cell_type": "markdown",
   "metadata": {},
   "source": [
    "The datetype for the InvoiceDate column is still object. Use pd.to_datetime to change it to datetime."
   ]
  },
  {
   "cell_type": "code",
   "execution_count": 5,
   "metadata": {},
   "outputs": [],
   "source": [
    "df['InvoiceDate']=pd.to_datetime(df['InvoiceDate'])"
   ]
  },
  {
   "cell_type": "code",
   "execution_count": 6,
   "metadata": {},
   "outputs": [
    {
     "name": "stdout",
     "output_type": "stream",
     "text": [
      "<class 'pandas.core.frame.DataFrame'>\n",
      "RangeIndex: 541909 entries, 0 to 541908\n",
      "Data columns (total 8 columns):\n",
      " #   Column       Non-Null Count   Dtype         \n",
      "---  ------       --------------   -----         \n",
      " 0   InvoiceNo    541909 non-null  object        \n",
      " 1   StockCode    541909 non-null  object        \n",
      " 2   Description  540455 non-null  object        \n",
      " 3   Quantity     541909 non-null  int64         \n",
      " 4   InvoiceDate  541909 non-null  datetime64[ns]\n",
      " 5   UnitPrice    541909 non-null  float64       \n",
      " 6   CustomerID   406829 non-null  float64       \n",
      " 7   Country      541909 non-null  object        \n",
      "dtypes: datetime64[ns](1), float64(2), int64(1), object(4)\n",
      "memory usage: 33.1+ MB\n"
     ]
    }
   ],
   "source": [
    "df.info()"
   ]
  },
  {
   "cell_type": "code",
   "execution_count": 7,
   "metadata": {},
   "outputs": [
    {
     "data": {
      "text/plain": [
       "(541909, 8)"
      ]
     },
     "execution_count": 7,
     "metadata": {},
     "output_type": "execute_result"
    }
   ],
   "source": [
    "df.shape"
   ]
  },
  {
   "cell_type": "markdown",
   "metadata": {},
   "source": [
    "Create a total transaction column by multiplying quantity and unit price"
   ]
  },
  {
   "cell_type": "code",
   "execution_count": 8,
   "metadata": {},
   "outputs": [],
   "source": [
    "df['total_transaction']=df['Quantity']*df['UnitPrice']"
   ]
  },
  {
   "cell_type": "code",
   "execution_count": 9,
   "metadata": {},
   "outputs": [
    {
     "data": {
      "text/html": [
       "<div>\n",
       "<style scoped>\n",
       "    .dataframe tbody tr th:only-of-type {\n",
       "        vertical-align: middle;\n",
       "    }\n",
       "\n",
       "    .dataframe tbody tr th {\n",
       "        vertical-align: top;\n",
       "    }\n",
       "\n",
       "    .dataframe thead th {\n",
       "        text-align: right;\n",
       "    }\n",
       "</style>\n",
       "<table border=\"1\" class=\"dataframe\">\n",
       "  <thead>\n",
       "    <tr style=\"text-align: right;\">\n",
       "      <th></th>\n",
       "      <th>InvoiceNo</th>\n",
       "      <th>StockCode</th>\n",
       "      <th>Description</th>\n",
       "      <th>Quantity</th>\n",
       "      <th>InvoiceDate</th>\n",
       "      <th>UnitPrice</th>\n",
       "      <th>CustomerID</th>\n",
       "      <th>Country</th>\n",
       "      <th>total_transaction</th>\n",
       "    </tr>\n",
       "  </thead>\n",
       "  <tbody>\n",
       "    <tr>\n",
       "      <th>0</th>\n",
       "      <td>536365</td>\n",
       "      <td>85123A</td>\n",
       "      <td>WHITE HANGING HEART T-LIGHT HOLDER</td>\n",
       "      <td>6</td>\n",
       "      <td>2010-12-01 08:26:00</td>\n",
       "      <td>2.55</td>\n",
       "      <td>17850.0</td>\n",
       "      <td>United Kingdom</td>\n",
       "      <td>15.30</td>\n",
       "    </tr>\n",
       "    <tr>\n",
       "      <th>1</th>\n",
       "      <td>536365</td>\n",
       "      <td>71053</td>\n",
       "      <td>WHITE METAL LANTERN</td>\n",
       "      <td>6</td>\n",
       "      <td>2010-12-01 08:26:00</td>\n",
       "      <td>3.39</td>\n",
       "      <td>17850.0</td>\n",
       "      <td>United Kingdom</td>\n",
       "      <td>20.34</td>\n",
       "    </tr>\n",
       "    <tr>\n",
       "      <th>2</th>\n",
       "      <td>536365</td>\n",
       "      <td>84406B</td>\n",
       "      <td>CREAM CUPID HEARTS COAT HANGER</td>\n",
       "      <td>8</td>\n",
       "      <td>2010-12-01 08:26:00</td>\n",
       "      <td>2.75</td>\n",
       "      <td>17850.0</td>\n",
       "      <td>United Kingdom</td>\n",
       "      <td>22.00</td>\n",
       "    </tr>\n",
       "    <tr>\n",
       "      <th>3</th>\n",
       "      <td>536365</td>\n",
       "      <td>84029G</td>\n",
       "      <td>KNITTED UNION FLAG HOT WATER BOTTLE</td>\n",
       "      <td>6</td>\n",
       "      <td>2010-12-01 08:26:00</td>\n",
       "      <td>3.39</td>\n",
       "      <td>17850.0</td>\n",
       "      <td>United Kingdom</td>\n",
       "      <td>20.34</td>\n",
       "    </tr>\n",
       "    <tr>\n",
       "      <th>4</th>\n",
       "      <td>536365</td>\n",
       "      <td>84029E</td>\n",
       "      <td>RED WOOLLY HOTTIE WHITE HEART.</td>\n",
       "      <td>6</td>\n",
       "      <td>2010-12-01 08:26:00</td>\n",
       "      <td>3.39</td>\n",
       "      <td>17850.0</td>\n",
       "      <td>United Kingdom</td>\n",
       "      <td>20.34</td>\n",
       "    </tr>\n",
       "  </tbody>\n",
       "</table>\n",
       "</div>"
      ],
      "text/plain": [
       "  InvoiceNo StockCode                          Description  Quantity  \\\n",
       "0    536365    85123A   WHITE HANGING HEART T-LIGHT HOLDER         6   \n",
       "1    536365     71053                  WHITE METAL LANTERN         6   \n",
       "2    536365    84406B       CREAM CUPID HEARTS COAT HANGER         8   \n",
       "3    536365    84029G  KNITTED UNION FLAG HOT WATER BOTTLE         6   \n",
       "4    536365    84029E       RED WOOLLY HOTTIE WHITE HEART.         6   \n",
       "\n",
       "          InvoiceDate  UnitPrice  CustomerID         Country  \\\n",
       "0 2010-12-01 08:26:00       2.55     17850.0  United Kingdom   \n",
       "1 2010-12-01 08:26:00       3.39     17850.0  United Kingdom   \n",
       "2 2010-12-01 08:26:00       2.75     17850.0  United Kingdom   \n",
       "3 2010-12-01 08:26:00       3.39     17850.0  United Kingdom   \n",
       "4 2010-12-01 08:26:00       3.39     17850.0  United Kingdom   \n",
       "\n",
       "   total_transaction  \n",
       "0              15.30  \n",
       "1              20.34  \n",
       "2              22.00  \n",
       "3              20.34  \n",
       "4              20.34  "
      ]
     },
     "execution_count": 9,
     "metadata": {},
     "output_type": "execute_result"
    }
   ],
   "source": [
    "df.head()"
   ]
  },
  {
   "cell_type": "markdown",
   "metadata": {},
   "source": [
    "Create a new columns of Month and Year of each transaction"
   ]
  },
  {
   "cell_type": "code",
   "execution_count": 10,
   "metadata": {},
   "outputs": [],
   "source": [
    "df['Month']=df['InvoiceDate'].apply(lambda x:x.month)"
   ]
  },
  {
   "cell_type": "code",
   "execution_count": 11,
   "metadata": {},
   "outputs": [],
   "source": [
    "df['Year']=df['InvoiceDate'].apply(lambda x:x.year)"
   ]
  },
  {
   "cell_type": "markdown",
   "metadata": {},
   "source": [
    "Sort dataframe by year and month"
   ]
  },
  {
   "cell_type": "code",
   "execution_count": 12,
   "metadata": {},
   "outputs": [],
   "source": [
    "df=df.sort_values(by=['Year','Month'])"
   ]
  },
  {
   "cell_type": "code",
   "execution_count": 13,
   "metadata": {},
   "outputs": [],
   "source": [
    "mmap={1:'Jan11',2:'Feb11',3:'Mar11',4:'Apr11', 5:'May11', 6:'Jun11', 7:'Jul11',8:'Aug11',9:'Sep11',10:'Oct11',11:'Nov11',12:'Dec11'}"
   ]
  },
  {
   "cell_type": "code",
   "execution_count": 14,
   "metadata": {},
   "outputs": [],
   "source": [
    "df['Month_name']=df['Month'].map(mmap)"
   ]
  },
  {
   "cell_type": "code",
   "execution_count": 15,
   "metadata": {},
   "outputs": [
    {
     "data": {
      "text/html": [
       "<div>\n",
       "<style scoped>\n",
       "    .dataframe tbody tr th:only-of-type {\n",
       "        vertical-align: middle;\n",
       "    }\n",
       "\n",
       "    .dataframe tbody tr th {\n",
       "        vertical-align: top;\n",
       "    }\n",
       "\n",
       "    .dataframe thead th {\n",
       "        text-align: right;\n",
       "    }\n",
       "</style>\n",
       "<table border=\"1\" class=\"dataframe\">\n",
       "  <thead>\n",
       "    <tr style=\"text-align: right;\">\n",
       "      <th></th>\n",
       "      <th>InvoiceNo</th>\n",
       "      <th>StockCode</th>\n",
       "      <th>Description</th>\n",
       "      <th>Quantity</th>\n",
       "      <th>InvoiceDate</th>\n",
       "      <th>UnitPrice</th>\n",
       "      <th>CustomerID</th>\n",
       "      <th>Country</th>\n",
       "      <th>total_transaction</th>\n",
       "      <th>Month</th>\n",
       "      <th>Year</th>\n",
       "      <th>Month_name</th>\n",
       "    </tr>\n",
       "  </thead>\n",
       "  <tbody>\n",
       "    <tr>\n",
       "      <th>0</th>\n",
       "      <td>536365</td>\n",
       "      <td>85123A</td>\n",
       "      <td>WHITE HANGING HEART T-LIGHT HOLDER</td>\n",
       "      <td>6</td>\n",
       "      <td>2010-12-01 08:26:00</td>\n",
       "      <td>2.55</td>\n",
       "      <td>17850.0</td>\n",
       "      <td>United Kingdom</td>\n",
       "      <td>15.30</td>\n",
       "      <td>12</td>\n",
       "      <td>2010</td>\n",
       "      <td>Dec11</td>\n",
       "    </tr>\n",
       "    <tr>\n",
       "      <th>1</th>\n",
       "      <td>536365</td>\n",
       "      <td>71053</td>\n",
       "      <td>WHITE METAL LANTERN</td>\n",
       "      <td>6</td>\n",
       "      <td>2010-12-01 08:26:00</td>\n",
       "      <td>3.39</td>\n",
       "      <td>17850.0</td>\n",
       "      <td>United Kingdom</td>\n",
       "      <td>20.34</td>\n",
       "      <td>12</td>\n",
       "      <td>2010</td>\n",
       "      <td>Dec11</td>\n",
       "    </tr>\n",
       "    <tr>\n",
       "      <th>2</th>\n",
       "      <td>536365</td>\n",
       "      <td>84406B</td>\n",
       "      <td>CREAM CUPID HEARTS COAT HANGER</td>\n",
       "      <td>8</td>\n",
       "      <td>2010-12-01 08:26:00</td>\n",
       "      <td>2.75</td>\n",
       "      <td>17850.0</td>\n",
       "      <td>United Kingdom</td>\n",
       "      <td>22.00</td>\n",
       "      <td>12</td>\n",
       "      <td>2010</td>\n",
       "      <td>Dec11</td>\n",
       "    </tr>\n",
       "    <tr>\n",
       "      <th>3</th>\n",
       "      <td>536365</td>\n",
       "      <td>84029G</td>\n",
       "      <td>KNITTED UNION FLAG HOT WATER BOTTLE</td>\n",
       "      <td>6</td>\n",
       "      <td>2010-12-01 08:26:00</td>\n",
       "      <td>3.39</td>\n",
       "      <td>17850.0</td>\n",
       "      <td>United Kingdom</td>\n",
       "      <td>20.34</td>\n",
       "      <td>12</td>\n",
       "      <td>2010</td>\n",
       "      <td>Dec11</td>\n",
       "    </tr>\n",
       "    <tr>\n",
       "      <th>4</th>\n",
       "      <td>536365</td>\n",
       "      <td>84029E</td>\n",
       "      <td>RED WOOLLY HOTTIE WHITE HEART.</td>\n",
       "      <td>6</td>\n",
       "      <td>2010-12-01 08:26:00</td>\n",
       "      <td>3.39</td>\n",
       "      <td>17850.0</td>\n",
       "      <td>United Kingdom</td>\n",
       "      <td>20.34</td>\n",
       "      <td>12</td>\n",
       "      <td>2010</td>\n",
       "      <td>Dec11</td>\n",
       "    </tr>\n",
       "  </tbody>\n",
       "</table>\n",
       "</div>"
      ],
      "text/plain": [
       "  InvoiceNo StockCode                          Description  Quantity  \\\n",
       "0    536365    85123A   WHITE HANGING HEART T-LIGHT HOLDER         6   \n",
       "1    536365     71053                  WHITE METAL LANTERN         6   \n",
       "2    536365    84406B       CREAM CUPID HEARTS COAT HANGER         8   \n",
       "3    536365    84029G  KNITTED UNION FLAG HOT WATER BOTTLE         6   \n",
       "4    536365    84029E       RED WOOLLY HOTTIE WHITE HEART.         6   \n",
       "\n",
       "          InvoiceDate  UnitPrice  CustomerID         Country  \\\n",
       "0 2010-12-01 08:26:00       2.55     17850.0  United Kingdom   \n",
       "1 2010-12-01 08:26:00       3.39     17850.0  United Kingdom   \n",
       "2 2010-12-01 08:26:00       2.75     17850.0  United Kingdom   \n",
       "3 2010-12-01 08:26:00       3.39     17850.0  United Kingdom   \n",
       "4 2010-12-01 08:26:00       3.39     17850.0  United Kingdom   \n",
       "\n",
       "   total_transaction  Month  Year Month_name  \n",
       "0              15.30     12  2010      Dec11  \n",
       "1              20.34     12  2010      Dec11  \n",
       "2              22.00     12  2010      Dec11  \n",
       "3              20.34     12  2010      Dec11  \n",
       "4              20.34     12  2010      Dec11  "
      ]
     },
     "execution_count": 15,
     "metadata": {},
     "output_type": "execute_result"
    }
   ],
   "source": [
    "df.head()"
   ]
  },
  {
   "cell_type": "code",
   "execution_count": 16,
   "metadata": {},
   "outputs": [],
   "source": [
    "def my(x):\n",
    "    Month=x[0]\n",
    "    Year=x[1]\n",
    "    \n",
    "    if Year==2010:\n",
    "        Month='Dec10'\n",
    "        return Month\n",
    "    else:\n",
    "        return Month"
   ]
  },
  {
   "cell_type": "code",
   "execution_count": 17,
   "metadata": {},
   "outputs": [],
   "source": [
    "df['Month_name']=df[['Month_name','Year']].apply(my, axis=1)"
   ]
  },
  {
   "cell_type": "code",
   "execution_count": 18,
   "metadata": {},
   "outputs": [
    {
     "data": {
      "text/html": [
       "<div>\n",
       "<style scoped>\n",
       "    .dataframe tbody tr th:only-of-type {\n",
       "        vertical-align: middle;\n",
       "    }\n",
       "\n",
       "    .dataframe tbody tr th {\n",
       "        vertical-align: top;\n",
       "    }\n",
       "\n",
       "    .dataframe thead th {\n",
       "        text-align: right;\n",
       "    }\n",
       "</style>\n",
       "<table border=\"1\" class=\"dataframe\">\n",
       "  <thead>\n",
       "    <tr style=\"text-align: right;\">\n",
       "      <th></th>\n",
       "      <th>InvoiceNo</th>\n",
       "      <th>StockCode</th>\n",
       "      <th>Description</th>\n",
       "      <th>Quantity</th>\n",
       "      <th>InvoiceDate</th>\n",
       "      <th>UnitPrice</th>\n",
       "      <th>CustomerID</th>\n",
       "      <th>Country</th>\n",
       "      <th>total_transaction</th>\n",
       "      <th>Month</th>\n",
       "      <th>Year</th>\n",
       "      <th>Month_name</th>\n",
       "    </tr>\n",
       "  </thead>\n",
       "  <tbody>\n",
       "    <tr>\n",
       "      <th>0</th>\n",
       "      <td>536365</td>\n",
       "      <td>85123A</td>\n",
       "      <td>WHITE HANGING HEART T-LIGHT HOLDER</td>\n",
       "      <td>6</td>\n",
       "      <td>2010-12-01 08:26:00</td>\n",
       "      <td>2.55</td>\n",
       "      <td>17850.0</td>\n",
       "      <td>United Kingdom</td>\n",
       "      <td>15.30</td>\n",
       "      <td>12</td>\n",
       "      <td>2010</td>\n",
       "      <td>Dec10</td>\n",
       "    </tr>\n",
       "    <tr>\n",
       "      <th>1</th>\n",
       "      <td>536365</td>\n",
       "      <td>71053</td>\n",
       "      <td>WHITE METAL LANTERN</td>\n",
       "      <td>6</td>\n",
       "      <td>2010-12-01 08:26:00</td>\n",
       "      <td>3.39</td>\n",
       "      <td>17850.0</td>\n",
       "      <td>United Kingdom</td>\n",
       "      <td>20.34</td>\n",
       "      <td>12</td>\n",
       "      <td>2010</td>\n",
       "      <td>Dec10</td>\n",
       "    </tr>\n",
       "    <tr>\n",
       "      <th>2</th>\n",
       "      <td>536365</td>\n",
       "      <td>84406B</td>\n",
       "      <td>CREAM CUPID HEARTS COAT HANGER</td>\n",
       "      <td>8</td>\n",
       "      <td>2010-12-01 08:26:00</td>\n",
       "      <td>2.75</td>\n",
       "      <td>17850.0</td>\n",
       "      <td>United Kingdom</td>\n",
       "      <td>22.00</td>\n",
       "      <td>12</td>\n",
       "      <td>2010</td>\n",
       "      <td>Dec10</td>\n",
       "    </tr>\n",
       "    <tr>\n",
       "      <th>3</th>\n",
       "      <td>536365</td>\n",
       "      <td>84029G</td>\n",
       "      <td>KNITTED UNION FLAG HOT WATER BOTTLE</td>\n",
       "      <td>6</td>\n",
       "      <td>2010-12-01 08:26:00</td>\n",
       "      <td>3.39</td>\n",
       "      <td>17850.0</td>\n",
       "      <td>United Kingdom</td>\n",
       "      <td>20.34</td>\n",
       "      <td>12</td>\n",
       "      <td>2010</td>\n",
       "      <td>Dec10</td>\n",
       "    </tr>\n",
       "    <tr>\n",
       "      <th>4</th>\n",
       "      <td>536365</td>\n",
       "      <td>84029E</td>\n",
       "      <td>RED WOOLLY HOTTIE WHITE HEART.</td>\n",
       "      <td>6</td>\n",
       "      <td>2010-12-01 08:26:00</td>\n",
       "      <td>3.39</td>\n",
       "      <td>17850.0</td>\n",
       "      <td>United Kingdom</td>\n",
       "      <td>20.34</td>\n",
       "      <td>12</td>\n",
       "      <td>2010</td>\n",
       "      <td>Dec10</td>\n",
       "    </tr>\n",
       "  </tbody>\n",
       "</table>\n",
       "</div>"
      ],
      "text/plain": [
       "  InvoiceNo StockCode                          Description  Quantity  \\\n",
       "0    536365    85123A   WHITE HANGING HEART T-LIGHT HOLDER         6   \n",
       "1    536365     71053                  WHITE METAL LANTERN         6   \n",
       "2    536365    84406B       CREAM CUPID HEARTS COAT HANGER         8   \n",
       "3    536365    84029G  KNITTED UNION FLAG HOT WATER BOTTLE         6   \n",
       "4    536365    84029E       RED WOOLLY HOTTIE WHITE HEART.         6   \n",
       "\n",
       "          InvoiceDate  UnitPrice  CustomerID         Country  \\\n",
       "0 2010-12-01 08:26:00       2.55     17850.0  United Kingdom   \n",
       "1 2010-12-01 08:26:00       3.39     17850.0  United Kingdom   \n",
       "2 2010-12-01 08:26:00       2.75     17850.0  United Kingdom   \n",
       "3 2010-12-01 08:26:00       3.39     17850.0  United Kingdom   \n",
       "4 2010-12-01 08:26:00       3.39     17850.0  United Kingdom   \n",
       "\n",
       "   total_transaction  Month  Year Month_name  \n",
       "0              15.30     12  2010      Dec10  \n",
       "1              20.34     12  2010      Dec10  \n",
       "2              22.00     12  2010      Dec10  \n",
       "3              20.34     12  2010      Dec10  \n",
       "4              20.34     12  2010      Dec10  "
      ]
     },
     "execution_count": 18,
     "metadata": {},
     "output_type": "execute_result"
    }
   ],
   "source": [
    "df.head()"
   ]
  },
  {
   "cell_type": "markdown",
   "metadata": {},
   "source": [
    "## Total transaction by month"
   ]
  },
  {
   "cell_type": "markdown",
   "metadata": {},
   "source": [
    "Figuring out the monthly total transactions from the data"
   ]
  },
  {
   "cell_type": "code",
   "execution_count": 19,
   "metadata": {},
   "outputs": [],
   "source": [
    "monthly=df.groupby(['Year','Month','Month_name']).sum()"
   ]
  },
  {
   "cell_type": "code",
   "execution_count": 20,
   "metadata": {},
   "outputs": [
    {
     "data": {
      "text/html": [
       "<div>\n",
       "<style scoped>\n",
       "    .dataframe tbody tr th:only-of-type {\n",
       "        vertical-align: middle;\n",
       "    }\n",
       "\n",
       "    .dataframe tbody tr th {\n",
       "        vertical-align: top;\n",
       "    }\n",
       "\n",
       "    .dataframe thead th {\n",
       "        text-align: right;\n",
       "    }\n",
       "</style>\n",
       "<table border=\"1\" class=\"dataframe\">\n",
       "  <thead>\n",
       "    <tr style=\"text-align: right;\">\n",
       "      <th></th>\n",
       "      <th></th>\n",
       "      <th></th>\n",
       "      <th>Quantity</th>\n",
       "      <th>UnitPrice</th>\n",
       "      <th>CustomerID</th>\n",
       "      <th>total_transaction</th>\n",
       "    </tr>\n",
       "    <tr>\n",
       "      <th>Year</th>\n",
       "      <th>Month</th>\n",
       "      <th>Month_name</th>\n",
       "      <th></th>\n",
       "      <th></th>\n",
       "      <th></th>\n",
       "      <th></th>\n",
       "    </tr>\n",
       "  </thead>\n",
       "  <tbody>\n",
       "    <tr>\n",
       "      <th>2010</th>\n",
       "      <th>12</th>\n",
       "      <th>Dec10</th>\n",
       "      <td>342228</td>\n",
       "      <td>260520.850</td>\n",
       "      <td>4.166977e+08</td>\n",
       "      <td>748957.020</td>\n",
       "    </tr>\n",
       "    <tr>\n",
       "      <th rowspan=\"12\" valign=\"top\">2011</th>\n",
       "      <th>1</th>\n",
       "      <th>Jan11</th>\n",
       "      <td>308966</td>\n",
       "      <td>172752.800</td>\n",
       "      <td>3.319198e+08</td>\n",
       "      <td>560000.260</td>\n",
       "    </tr>\n",
       "    <tr>\n",
       "      <th>2</th>\n",
       "      <th>Feb11</th>\n",
       "      <td>277989</td>\n",
       "      <td>127448.770</td>\n",
       "      <td>3.117809e+08</td>\n",
       "      <td>498062.650</td>\n",
       "    </tr>\n",
       "    <tr>\n",
       "      <th>3</th>\n",
       "      <th>Mar11</th>\n",
       "      <td>351872</td>\n",
       "      <td>171486.510</td>\n",
       "      <td>4.223298e+08</td>\n",
       "      <td>683267.080</td>\n",
       "    </tr>\n",
       "    <tr>\n",
       "      <th>4</th>\n",
       "      <th>Apr11</th>\n",
       "      <td>289098</td>\n",
       "      <td>129164.961</td>\n",
       "      <td>3.541194e+08</td>\n",
       "      <td>493207.121</td>\n",
       "    </tr>\n",
       "    <tr>\n",
       "      <th>5</th>\n",
       "      <th>May11</th>\n",
       "      <td>380391</td>\n",
       "      <td>190685.460</td>\n",
       "      <td>4.400088e+08</td>\n",
       "      <td>723333.510</td>\n",
       "    </tr>\n",
       "    <tr>\n",
       "      <th>6</th>\n",
       "      <th>Jun11</th>\n",
       "      <td>341623</td>\n",
       "      <td>200717.340</td>\n",
       "      <td>4.264710e+08</td>\n",
       "      <td>691123.120</td>\n",
       "    </tr>\n",
       "    <tr>\n",
       "      <th>7</th>\n",
       "      <th>Jul11</th>\n",
       "      <td>391116</td>\n",
       "      <td>171906.791</td>\n",
       "      <td>4.209226e+08</td>\n",
       "      <td>681300.111</td>\n",
       "    </tr>\n",
       "    <tr>\n",
       "      <th>8</th>\n",
       "      <th>Aug11</th>\n",
       "      <td>406199</td>\n",
       "      <td>150385.680</td>\n",
       "      <td>4.219478e+08</td>\n",
       "      <td>682680.510</td>\n",
       "    </tr>\n",
       "    <tr>\n",
       "      <th>9</th>\n",
       "      <th>Sep11</th>\n",
       "      <td>549817</td>\n",
       "      <td>199235.212</td>\n",
       "      <td>6.229373e+08</td>\n",
       "      <td>1019687.622</td>\n",
       "    </tr>\n",
       "    <tr>\n",
       "      <th>10</th>\n",
       "      <th>Oct11</th>\n",
       "      <td>570532</td>\n",
       "      <td>263434.090</td>\n",
       "      <td>7.727017e+08</td>\n",
       "      <td>1070704.670</td>\n",
       "    </tr>\n",
       "    <tr>\n",
       "      <th>11</th>\n",
       "      <th>Nov11</th>\n",
       "      <td>740286</td>\n",
       "      <td>327149.850</td>\n",
       "      <td>1.007384e+09</td>\n",
       "      <td>1461756.250</td>\n",
       "    </tr>\n",
       "    <tr>\n",
       "      <th>12</th>\n",
       "      <th>Dec11</th>\n",
       "      <td>226333</td>\n",
       "      <td>133915.660</td>\n",
       "      <td>2.702551e+08</td>\n",
       "      <td>433668.010</td>\n",
       "    </tr>\n",
       "  </tbody>\n",
       "</table>\n",
       "</div>"
      ],
      "text/plain": [
       "                       Quantity   UnitPrice    CustomerID  total_transaction\n",
       "Year Month Month_name                                                       \n",
       "2010 12    Dec10         342228  260520.850  4.166977e+08         748957.020\n",
       "2011 1     Jan11         308966  172752.800  3.319198e+08         560000.260\n",
       "     2     Feb11         277989  127448.770  3.117809e+08         498062.650\n",
       "     3     Mar11         351872  171486.510  4.223298e+08         683267.080\n",
       "     4     Apr11         289098  129164.961  3.541194e+08         493207.121\n",
       "     5     May11         380391  190685.460  4.400088e+08         723333.510\n",
       "     6     Jun11         341623  200717.340  4.264710e+08         691123.120\n",
       "     7     Jul11         391116  171906.791  4.209226e+08         681300.111\n",
       "     8     Aug11         406199  150385.680  4.219478e+08         682680.510\n",
       "     9     Sep11         549817  199235.212  6.229373e+08        1019687.622\n",
       "     10    Oct11         570532  263434.090  7.727017e+08        1070704.670\n",
       "     11    Nov11         740286  327149.850  1.007384e+09        1461756.250\n",
       "     12    Dec11         226333  133915.660  2.702551e+08         433668.010"
      ]
     },
     "execution_count": 20,
     "metadata": {},
     "output_type": "execute_result"
    }
   ],
   "source": [
    "monthly"
   ]
  },
  {
   "cell_type": "code",
   "execution_count": 21,
   "metadata": {},
   "outputs": [],
   "source": [
    "monthly.reset_index(inplace=True)"
   ]
  },
  {
   "cell_type": "code",
   "execution_count": 22,
   "metadata": {},
   "outputs": [
    {
     "data": {
      "text/html": [
       "<div>\n",
       "<style scoped>\n",
       "    .dataframe tbody tr th:only-of-type {\n",
       "        vertical-align: middle;\n",
       "    }\n",
       "\n",
       "    .dataframe tbody tr th {\n",
       "        vertical-align: top;\n",
       "    }\n",
       "\n",
       "    .dataframe thead th {\n",
       "        text-align: right;\n",
       "    }\n",
       "</style>\n",
       "<table border=\"1\" class=\"dataframe\">\n",
       "  <thead>\n",
       "    <tr style=\"text-align: right;\">\n",
       "      <th></th>\n",
       "      <th>Year</th>\n",
       "      <th>Month</th>\n",
       "      <th>Month_name</th>\n",
       "      <th>Quantity</th>\n",
       "      <th>UnitPrice</th>\n",
       "      <th>CustomerID</th>\n",
       "      <th>total_transaction</th>\n",
       "    </tr>\n",
       "  </thead>\n",
       "  <tbody>\n",
       "    <tr>\n",
       "      <th>0</th>\n",
       "      <td>2010</td>\n",
       "      <td>12</td>\n",
       "      <td>Dec10</td>\n",
       "      <td>342228</td>\n",
       "      <td>260520.850</td>\n",
       "      <td>4.166977e+08</td>\n",
       "      <td>748957.020</td>\n",
       "    </tr>\n",
       "    <tr>\n",
       "      <th>1</th>\n",
       "      <td>2011</td>\n",
       "      <td>1</td>\n",
       "      <td>Jan11</td>\n",
       "      <td>308966</td>\n",
       "      <td>172752.800</td>\n",
       "      <td>3.319198e+08</td>\n",
       "      <td>560000.260</td>\n",
       "    </tr>\n",
       "    <tr>\n",
       "      <th>2</th>\n",
       "      <td>2011</td>\n",
       "      <td>2</td>\n",
       "      <td>Feb11</td>\n",
       "      <td>277989</td>\n",
       "      <td>127448.770</td>\n",
       "      <td>3.117809e+08</td>\n",
       "      <td>498062.650</td>\n",
       "    </tr>\n",
       "    <tr>\n",
       "      <th>3</th>\n",
       "      <td>2011</td>\n",
       "      <td>3</td>\n",
       "      <td>Mar11</td>\n",
       "      <td>351872</td>\n",
       "      <td>171486.510</td>\n",
       "      <td>4.223298e+08</td>\n",
       "      <td>683267.080</td>\n",
       "    </tr>\n",
       "    <tr>\n",
       "      <th>4</th>\n",
       "      <td>2011</td>\n",
       "      <td>4</td>\n",
       "      <td>Apr11</td>\n",
       "      <td>289098</td>\n",
       "      <td>129164.961</td>\n",
       "      <td>3.541194e+08</td>\n",
       "      <td>493207.121</td>\n",
       "    </tr>\n",
       "    <tr>\n",
       "      <th>5</th>\n",
       "      <td>2011</td>\n",
       "      <td>5</td>\n",
       "      <td>May11</td>\n",
       "      <td>380391</td>\n",
       "      <td>190685.460</td>\n",
       "      <td>4.400088e+08</td>\n",
       "      <td>723333.510</td>\n",
       "    </tr>\n",
       "    <tr>\n",
       "      <th>6</th>\n",
       "      <td>2011</td>\n",
       "      <td>6</td>\n",
       "      <td>Jun11</td>\n",
       "      <td>341623</td>\n",
       "      <td>200717.340</td>\n",
       "      <td>4.264710e+08</td>\n",
       "      <td>691123.120</td>\n",
       "    </tr>\n",
       "    <tr>\n",
       "      <th>7</th>\n",
       "      <td>2011</td>\n",
       "      <td>7</td>\n",
       "      <td>Jul11</td>\n",
       "      <td>391116</td>\n",
       "      <td>171906.791</td>\n",
       "      <td>4.209226e+08</td>\n",
       "      <td>681300.111</td>\n",
       "    </tr>\n",
       "    <tr>\n",
       "      <th>8</th>\n",
       "      <td>2011</td>\n",
       "      <td>8</td>\n",
       "      <td>Aug11</td>\n",
       "      <td>406199</td>\n",
       "      <td>150385.680</td>\n",
       "      <td>4.219478e+08</td>\n",
       "      <td>682680.510</td>\n",
       "    </tr>\n",
       "    <tr>\n",
       "      <th>9</th>\n",
       "      <td>2011</td>\n",
       "      <td>9</td>\n",
       "      <td>Sep11</td>\n",
       "      <td>549817</td>\n",
       "      <td>199235.212</td>\n",
       "      <td>6.229373e+08</td>\n",
       "      <td>1019687.622</td>\n",
       "    </tr>\n",
       "    <tr>\n",
       "      <th>10</th>\n",
       "      <td>2011</td>\n",
       "      <td>10</td>\n",
       "      <td>Oct11</td>\n",
       "      <td>570532</td>\n",
       "      <td>263434.090</td>\n",
       "      <td>7.727017e+08</td>\n",
       "      <td>1070704.670</td>\n",
       "    </tr>\n",
       "    <tr>\n",
       "      <th>11</th>\n",
       "      <td>2011</td>\n",
       "      <td>11</td>\n",
       "      <td>Nov11</td>\n",
       "      <td>740286</td>\n",
       "      <td>327149.850</td>\n",
       "      <td>1.007384e+09</td>\n",
       "      <td>1461756.250</td>\n",
       "    </tr>\n",
       "    <tr>\n",
       "      <th>12</th>\n",
       "      <td>2011</td>\n",
       "      <td>12</td>\n",
       "      <td>Dec11</td>\n",
       "      <td>226333</td>\n",
       "      <td>133915.660</td>\n",
       "      <td>2.702551e+08</td>\n",
       "      <td>433668.010</td>\n",
       "    </tr>\n",
       "  </tbody>\n",
       "</table>\n",
       "</div>"
      ],
      "text/plain": [
       "    Year  Month Month_name  Quantity   UnitPrice    CustomerID  \\\n",
       "0   2010     12      Dec10    342228  260520.850  4.166977e+08   \n",
       "1   2011      1      Jan11    308966  172752.800  3.319198e+08   \n",
       "2   2011      2      Feb11    277989  127448.770  3.117809e+08   \n",
       "3   2011      3      Mar11    351872  171486.510  4.223298e+08   \n",
       "4   2011      4      Apr11    289098  129164.961  3.541194e+08   \n",
       "5   2011      5      May11    380391  190685.460  4.400088e+08   \n",
       "6   2011      6      Jun11    341623  200717.340  4.264710e+08   \n",
       "7   2011      7      Jul11    391116  171906.791  4.209226e+08   \n",
       "8   2011      8      Aug11    406199  150385.680  4.219478e+08   \n",
       "9   2011      9      Sep11    549817  199235.212  6.229373e+08   \n",
       "10  2011     10      Oct11    570532  263434.090  7.727017e+08   \n",
       "11  2011     11      Nov11    740286  327149.850  1.007384e+09   \n",
       "12  2011     12      Dec11    226333  133915.660  2.702551e+08   \n",
       "\n",
       "    total_transaction  \n",
       "0          748957.020  \n",
       "1          560000.260  \n",
       "2          498062.650  \n",
       "3          683267.080  \n",
       "4          493207.121  \n",
       "5          723333.510  \n",
       "6          691123.120  \n",
       "7          681300.111  \n",
       "8          682680.510  \n",
       "9         1019687.622  \n",
       "10        1070704.670  \n",
       "11        1461756.250  \n",
       "12         433668.010  "
      ]
     },
     "execution_count": 22,
     "metadata": {},
     "output_type": "execute_result"
    }
   ],
   "source": [
    "monthly"
   ]
  },
  {
   "cell_type": "code",
   "execution_count": 23,
   "metadata": {},
   "outputs": [
    {
     "data": {
      "text/plain": [
       "Text(0, 0.5, 'Total Transaction (mil)')"
      ]
     },
     "execution_count": 23,
     "metadata": {},
     "output_type": "execute_result"
    },
    {
     "data": {
      "image/png": "[encoded data removed]",
      "text/plain": [
       "<Figure size 720x360 with 1 Axes>"
      ]
     },
     "metadata": {
      "needs_background": "light"
     },
     "output_type": "display_data"
    }
   ],
   "source": [
    "plt.figure(figsize=(10,5))\n",
    "sns.set_style('whitegrid')\n",
    "sns.barplot(x='Month_name', y='total_transaction', data=monthly, palette='viridis')\n",
    "plt.title('Monthly Total Transaction', fontsize=14)\n",
    "plt.xlabel('Month')\n",
    "plt.ylabel('Total Transaction (mil)')"
   ]
  },
  {
   "cell_type": "markdown",
   "metadata": {},
   "source": [
    "Month with highest transaction = November 2011 <br/>\n",
    "Month with lowest transaction = December 2011"
   ]
  },
  {
   "cell_type": "markdown",
   "metadata": {},
   "source": [
    "## What happened in November 2011?"
   ]
  },
  {
   "cell_type": "markdown",
   "metadata": {},
   "source": [
    "Figuring out what products are sold the most in November 2011 in terms of total transaction"
   ]
  },
  {
   "cell_type": "code",
   "execution_count": 24,
   "metadata": {},
   "outputs": [],
   "source": [
    "nov11=df[(df['Month']==11) & (df['Year']==2011)]"
   ]
  },
  {
   "cell_type": "code",
   "execution_count": 25,
   "metadata": {},
   "outputs": [
    {
     "name": "stdout",
     "output_type": "stream",
     "text": [
      "<class 'pandas.core.frame.DataFrame'>\n",
      "Int64Index: 84711 entries, 431673 to 516383\n",
      "Data columns (total 12 columns):\n",
      " #   Column             Non-Null Count  Dtype         \n",
      "---  ------             --------------  -----         \n",
      " 0   InvoiceNo          84711 non-null  object        \n",
      " 1   StockCode          84711 non-null  object        \n",
      " 2   Description        84636 non-null  object        \n",
      " 3   Quantity           84711 non-null  int64         \n",
      " 4   InvoiceDate        84711 non-null  datetime64[ns]\n",
      " 5   UnitPrice          84711 non-null  float64       \n",
      " 6   CustomerID         65598 non-null  float64       \n",
      " 7   Country            84711 non-null  object        \n",
      " 8   total_transaction  84711 non-null  float64       \n",
      " 9   Month              84711 non-null  int64         \n",
      " 10  Year               84711 non-null  int64         \n",
      " 11  Month_name         84711 non-null  object        \n",
      "dtypes: datetime64[ns](1), float64(3), int64(3), object(5)\n",
      "memory usage: 8.4+ MB\n"
     ]
    }
   ],
   "source": [
    "nov11.info()"
   ]
  },
  {
   "cell_type": "markdown",
   "metadata": {},
   "source": [
    "Fill the missing values in Description column with 'unknown' so that the length matches the StockCode column"
   ]
  },
  {
   "cell_type": "code",
   "execution_count": 26,
   "metadata": {},
   "outputs": [
    {
     "name": "stderr",
     "output_type": "stream",
     "text": [
      "C:\\Users\\user\\anaconda3\\lib\\site-packages\\pandas\\core\\generic.py:6245: SettingWithCopyWarning: \n",
      "A value is trying to be set on a copy of a slice from a DataFrame\n",
      "\n",
      "See the caveats in the documentation: https://pandas.pydata.org/pandas-docs/stable/user_guide/indexing.html#returning-a-view-versus-a-copy\n",
      "  self._update_inplace(new_data)\n"
     ]
    }
   ],
   "source": [
    "nov11['Description'].fillna('unknown', inplace=True)"
   ]
  },
  {
   "cell_type": "code",
   "execution_count": 27,
   "metadata": {},
   "outputs": [
    {
     "name": "stdout",
     "output_type": "stream",
     "text": [
      "<class 'pandas.core.frame.DataFrame'>\n",
      "Int64Index: 84711 entries, 431673 to 516383\n",
      "Data columns (total 12 columns):\n",
      " #   Column             Non-Null Count  Dtype         \n",
      "---  ------             --------------  -----         \n",
      " 0   InvoiceNo          84711 non-null  object        \n",
      " 1   StockCode          84711 non-null  object        \n",
      " 2   Description        84711 non-null  object        \n",
      " 3   Quantity           84711 non-null  int64         \n",
      " 4   InvoiceDate        84711 non-null  datetime64[ns]\n",
      " 5   UnitPrice          84711 non-null  float64       \n",
      " 6   CustomerID         65598 non-null  float64       \n",
      " 7   Country            84711 non-null  object        \n",
      " 8   total_transaction  84711 non-null  float64       \n",
      " 9   Month              84711 non-null  int64         \n",
      " 10  Year               84711 non-null  int64         \n",
      " 11  Month_name         84711 non-null  object        \n",
      "dtypes: datetime64[ns](1), float64(3), int64(3), object(5)\n",
      "memory usage: 8.4+ MB\n"
     ]
    }
   ],
   "source": [
    "nov11.info()"
   ]
  },
  {
   "cell_type": "markdown",
   "metadata": {},
   "source": [
    "Groupby StockCode and Description, and sort it by total transaction to know what products generate the most transactions"
   ]
  },
  {
   "cell_type": "code",
   "execution_count": 28,
   "metadata": {},
   "outputs": [],
   "source": [
    "nov11=nov11.groupby(['StockCode','Description']).sum().sort_values(by='total_transaction', ascending=False)"
   ]
  },
  {
   "cell_type": "markdown",
   "metadata": {},
   "source": [
    "### Top 10 products sold in Nov 2011"
   ]
  },
  {
   "cell_type": "code",
   "execution_count": 29,
   "metadata": {},
   "outputs": [
    {
     "data": {
      "text/plain": [
       "StockCode  Description                       \n",
       "DOT        DOTCOM POSTAGE                        36905.40\n",
       "23084      RABBIT NIGHT LIGHT                    34422.09\n",
       "22086      PAPER CHAIN KIT 50'S CHRISTMAS        28883.04\n",
       "85123A     WHITE HANGING HEART T-LIGHT HOLDER    14119.80\n",
       "22197      POPCORN HOLDER                        13968.74\n",
       "22910      PAPER CHAIN KIT VINTAGE CHRISTMAS     12831.54\n",
       "22423      REGENCY CAKESTAND 3 TIER              12798.48\n",
       "23355      HOT WATER BOTTLE KEEP CALM            11500.87\n",
       "79321      CHILLI LIGHTS                         11475.07\n",
       "85099B     JUMBO BAG RED RETROSPOT               11458.21\n",
       "Name: total_transaction, dtype: float64"
      ]
     },
     "execution_count": 29,
     "metadata": {},
     "output_type": "execute_result"
    }
   ],
   "source": [
    "nov11['total_transaction'].head(10)"
   ]
  },
  {
   "cell_type": "markdown",
   "metadata": {},
   "source": [
    "  "
   ]
  },
  {
   "cell_type": "markdown",
   "metadata": {},
   "source": [
    "Compare it with other months"
   ]
  },
  {
   "cell_type": "code",
   "execution_count": 30,
   "metadata": {},
   "outputs": [],
   "source": [
    "df['Description'].fillna('unknown', inplace=True)"
   ]
  },
  {
   "cell_type": "code",
   "execution_count": 31,
   "metadata": {},
   "outputs": [],
   "source": [
    "pivot=df.pivot_table(index=['StockCode','Description'], values='total_transaction', columns='Month_name', aggfunc='sum').sort_values(by='Nov11', ascending=False)"
   ]
  },
  {
   "cell_type": "code",
   "execution_count": 32,
   "metadata": {},
   "outputs": [
    {
     "data": {
      "text/html": [
       "<div>\n",
       "<style scoped>\n",
       "    .dataframe tbody tr th:only-of-type {\n",
       "        vertical-align: middle;\n",
       "    }\n",
       "\n",
       "    .dataframe tbody tr th {\n",
       "        vertical-align: top;\n",
       "    }\n",
       "\n",
       "    .dataframe thead th {\n",
       "        text-align: right;\n",
       "    }\n",
       "</style>\n",
       "<table border=\"1\" class=\"dataframe\">\n",
       "  <thead>\n",
       "    <tr style=\"text-align: right;\">\n",
       "      <th></th>\n",
       "      <th>Month_name</th>\n",
       "      <th>Apr11</th>\n",
       "      <th>Aug11</th>\n",
       "      <th>Dec10</th>\n",
       "      <th>Dec11</th>\n",
       "      <th>Feb11</th>\n",
       "      <th>Jan11</th>\n",
       "      <th>Jul11</th>\n",
       "      <th>Jun11</th>\n",
       "      <th>Mar11</th>\n",
       "      <th>May11</th>\n",
       "      <th>Nov11</th>\n",
       "      <th>Oct11</th>\n",
       "      <th>Sep11</th>\n",
       "    </tr>\n",
       "    <tr>\n",
       "      <th>StockCode</th>\n",
       "      <th>Description</th>\n",
       "      <th></th>\n",
       "      <th></th>\n",
       "      <th></th>\n",
       "      <th></th>\n",
       "      <th></th>\n",
       "      <th></th>\n",
       "      <th></th>\n",
       "      <th></th>\n",
       "      <th></th>\n",
       "      <th></th>\n",
       "      <th></th>\n",
       "      <th></th>\n",
       "      <th></th>\n",
       "    </tr>\n",
       "  </thead>\n",
       "  <tbody>\n",
       "    <tr>\n",
       "      <th>DOT</th>\n",
       "      <th>DOTCOM POSTAGE</th>\n",
       "      <td>7535.38</td>\n",
       "      <td>13400.52</td>\n",
       "      <td>24671.19</td>\n",
       "      <td>19872.69</td>\n",
       "      <td>10060.57</td>\n",
       "      <td>13918.53</td>\n",
       "      <td>12841.00</td>\n",
       "      <td>11848.66</td>\n",
       "      <td>11829.71</td>\n",
       "      <td>10229.30</td>\n",
       "      <td>36905.40</td>\n",
       "      <td>17955.13</td>\n",
       "      <td>15177.40</td>\n",
       "    </tr>\n",
       "    <tr>\n",
       "      <th>23084</th>\n",
       "      <th>RABBIT NIGHT LIGHT</th>\n",
       "      <td>NaN</td>\n",
       "      <td>3533.57</td>\n",
       "      <td>NaN</td>\n",
       "      <td>9618.01</td>\n",
       "      <td>NaN</td>\n",
       "      <td>NaN</td>\n",
       "      <td>668.59</td>\n",
       "      <td>3285.27</td>\n",
       "      <td>NaN</td>\n",
       "      <td>2279.57</td>\n",
       "      <td>34422.09</td>\n",
       "      <td>12249.71</td>\n",
       "      <td>699.78</td>\n",
       "    </tr>\n",
       "    <tr>\n",
       "      <th>22086</th>\n",
       "      <th>PAPER CHAIN KIT 50'S CHRISTMAS</th>\n",
       "      <td>-57.97</td>\n",
       "      <td>1028.94</td>\n",
       "      <td>9205.15</td>\n",
       "      <td>6870.71</td>\n",
       "      <td>24.95</td>\n",
       "      <td>143.32</td>\n",
       "      <td>1060.23</td>\n",
       "      <td>910.88</td>\n",
       "      <td>232.01</td>\n",
       "      <td>65.19</td>\n",
       "      <td>28883.04</td>\n",
       "      <td>9419.39</td>\n",
       "      <td>6006.10</td>\n",
       "    </tr>\n",
       "    <tr>\n",
       "      <th>85123A</th>\n",
       "      <th>WHITE HANGING HEART T-LIGHT HOLDER</th>\n",
       "      <td>5078.59</td>\n",
       "      <td>5589.72</td>\n",
       "      <td>9078.96</td>\n",
       "      <td>2044.95</td>\n",
       "      <td>5132.06</td>\n",
       "      <td>15191.96</td>\n",
       "      <td>8483.46</td>\n",
       "      <td>4624.76</td>\n",
       "      <td>5550.95</td>\n",
       "      <td>11172.17</td>\n",
       "      <td>14119.80</td>\n",
       "      <td>4756.05</td>\n",
       "      <td>6892.56</td>\n",
       "    </tr>\n",
       "    <tr>\n",
       "      <th>22197</th>\n",
       "      <th>POPCORN HOLDER</th>\n",
       "      <td>NaN</td>\n",
       "      <td>4057.62</td>\n",
       "      <td>NaN</td>\n",
       "      <td>5409.86</td>\n",
       "      <td>NaN</td>\n",
       "      <td>NaN</td>\n",
       "      <td>1498.41</td>\n",
       "      <td>798.28</td>\n",
       "      <td>NaN</td>\n",
       "      <td>NaN</td>\n",
       "      <td>13968.74</td>\n",
       "      <td>4778.77</td>\n",
       "      <td>3457.78</td>\n",
       "    </tr>\n",
       "    <tr>\n",
       "      <th>22910</th>\n",
       "      <th>PAPER CHAIN KIT VINTAGE CHRISTMAS</th>\n",
       "      <td>102.00</td>\n",
       "      <td>714.17</td>\n",
       "      <td>4981.02</td>\n",
       "      <td>2763.56</td>\n",
       "      <td>35.40</td>\n",
       "      <td>36.81</td>\n",
       "      <td>1187.18</td>\n",
       "      <td>24.33</td>\n",
       "      <td>102.00</td>\n",
       "      <td>36.75</td>\n",
       "      <td>12831.54</td>\n",
       "      <td>4631.67</td>\n",
       "      <td>4495.46</td>\n",
       "    </tr>\n",
       "    <tr>\n",
       "      <th>22423</th>\n",
       "      <th>REGENCY CAKESTAND 3 TIER</th>\n",
       "      <td>14280.90</td>\n",
       "      <td>8406.30</td>\n",
       "      <td>26897.36</td>\n",
       "      <td>5902.92</td>\n",
       "      <td>10466.04</td>\n",
       "      <td>11742.50</td>\n",
       "      <td>13777.56</td>\n",
       "      <td>9466.39</td>\n",
       "      <td>16830.60</td>\n",
       "      <td>12217.27</td>\n",
       "      <td>12798.48</td>\n",
       "      <td>12660.84</td>\n",
       "      <td>9315.03</td>\n",
       "    </tr>\n",
       "    <tr>\n",
       "      <th>23355</th>\n",
       "      <th>HOT WATER BOTTLE KEEP CALM</th>\n",
       "      <td>NaN</td>\n",
       "      <td>593.52</td>\n",
       "      <td>NaN</td>\n",
       "      <td>3974.68</td>\n",
       "      <td>NaN</td>\n",
       "      <td>NaN</td>\n",
       "      <td>NaN</td>\n",
       "      <td>NaN</td>\n",
       "      <td>NaN</td>\n",
       "      <td>NaN</td>\n",
       "      <td>11500.87</td>\n",
       "      <td>6066.69</td>\n",
       "      <td>6289.19</td>\n",
       "    </tr>\n",
       "    <tr>\n",
       "      <th>79321</th>\n",
       "      <th>CHILLI LIGHTS</th>\n",
       "      <td>357.50</td>\n",
       "      <td>2260.33</td>\n",
       "      <td>7506.44</td>\n",
       "      <td>2633.99</td>\n",
       "      <td>3616.25</td>\n",
       "      <td>5590.88</td>\n",
       "      <td>4294.99</td>\n",
       "      <td>2287.29</td>\n",
       "      <td>3093.05</td>\n",
       "      <td>2296.75</td>\n",
       "      <td>11475.07</td>\n",
       "      <td>4678.13</td>\n",
       "      <td>3677.39</td>\n",
       "    </tr>\n",
       "    <tr>\n",
       "      <th>85099B</th>\n",
       "      <th>JUMBO BAG RED RETROSPOT</th>\n",
       "      <td>4870.92</td>\n",
       "      <td>10615.77</td>\n",
       "      <td>3972.35</td>\n",
       "      <td>2195.70</td>\n",
       "      <td>5613.64</td>\n",
       "      <td>4868.85</td>\n",
       "      <td>6247.63</td>\n",
       "      <td>7237.27</td>\n",
       "      <td>10116.43</td>\n",
       "      <td>7114.70</td>\n",
       "      <td>11458.21</td>\n",
       "      <td>9409.95</td>\n",
       "      <td>8634.61</td>\n",
       "    </tr>\n",
       "  </tbody>\n",
       "</table>\n",
       "</div>"
      ],
      "text/plain": [
       "Month_name                                       Apr11     Aug11     Dec10  \\\n",
       "StockCode Description                                                        \n",
       "DOT       DOTCOM POSTAGE                       7535.38  13400.52  24671.19   \n",
       "23084     RABBIT NIGHT LIGHT                       NaN   3533.57       NaN   \n",
       "22086     PAPER CHAIN KIT 50'S CHRISTMAS        -57.97   1028.94   9205.15   \n",
       "85123A    WHITE HANGING HEART T-LIGHT HOLDER   5078.59   5589.72   9078.96   \n",
       "22197     POPCORN HOLDER                           NaN   4057.62       NaN   \n",
       "22910     PAPER CHAIN KIT VINTAGE CHRISTMAS     102.00    714.17   4981.02   \n",
       "22423     REGENCY CAKESTAND 3 TIER            14280.90   8406.30  26897.36   \n",
       "23355     HOT WATER BOTTLE KEEP CALM               NaN    593.52       NaN   \n",
       "79321     CHILLI LIGHTS                         357.50   2260.33   7506.44   \n",
       "85099B    JUMBO BAG RED RETROSPOT              4870.92  10615.77   3972.35   \n",
       "\n",
       "Month_name                                       Dec11     Feb11     Jan11  \\\n",
       "StockCode Description                                                        \n",
       "DOT       DOTCOM POSTAGE                      19872.69  10060.57  13918.53   \n",
       "23084     RABBIT NIGHT LIGHT                   9618.01       NaN       NaN   \n",
       "22086     PAPER CHAIN KIT 50'S CHRISTMAS       6870.71     24.95    143.32   \n",
       "85123A    WHITE HANGING HEART T-LIGHT HOLDER   2044.95   5132.06  15191.96   \n",
       "22197     POPCORN HOLDER                       5409.86       NaN       NaN   \n",
       "22910     PAPER CHAIN KIT VINTAGE CHRISTMAS    2763.56     35.40     36.81   \n",
       "22423     REGENCY CAKESTAND 3 TIER             5902.92  10466.04  11742.50   \n",
       "23355     HOT WATER BOTTLE KEEP CALM           3974.68       NaN       NaN   \n",
       "79321     CHILLI LIGHTS                        2633.99   3616.25   5590.88   \n",
       "85099B    JUMBO BAG RED RETROSPOT              2195.70   5613.64   4868.85   \n",
       "\n",
       "Month_name                                       Jul11     Jun11     Mar11  \\\n",
       "StockCode Description                                                        \n",
       "DOT       DOTCOM POSTAGE                      12841.00  11848.66  11829.71   \n",
       "23084     RABBIT NIGHT LIGHT                    668.59   3285.27       NaN   \n",
       "22086     PAPER CHAIN KIT 50'S CHRISTMAS       1060.23    910.88    232.01   \n",
       "85123A    WHITE HANGING HEART T-LIGHT HOLDER   8483.46   4624.76   5550.95   \n",
       "22197     POPCORN HOLDER                       1498.41    798.28       NaN   \n",
       "22910     PAPER CHAIN KIT VINTAGE CHRISTMAS    1187.18     24.33    102.00   \n",
       "22423     REGENCY CAKESTAND 3 TIER            13777.56   9466.39  16830.60   \n",
       "23355     HOT WATER BOTTLE KEEP CALM               NaN       NaN       NaN   \n",
       "79321     CHILLI LIGHTS                        4294.99   2287.29   3093.05   \n",
       "85099B    JUMBO BAG RED RETROSPOT              6247.63   7237.27  10116.43   \n",
       "\n",
       "Month_name                                       May11     Nov11     Oct11  \\\n",
       "StockCode Description                                                        \n",
       "DOT       DOTCOM POSTAGE                      10229.30  36905.40  17955.13   \n",
       "23084     RABBIT NIGHT LIGHT                   2279.57  34422.09  12249.71   \n",
       "22086     PAPER CHAIN KIT 50'S CHRISTMAS         65.19  28883.04   9419.39   \n",
       "85123A    WHITE HANGING HEART T-LIGHT HOLDER  11172.17  14119.80   4756.05   \n",
       "22197     POPCORN HOLDER                           NaN  13968.74   4778.77   \n",
       "22910     PAPER CHAIN KIT VINTAGE CHRISTMAS      36.75  12831.54   4631.67   \n",
       "22423     REGENCY CAKESTAND 3 TIER            12217.27  12798.48  12660.84   \n",
       "23355     HOT WATER BOTTLE KEEP CALM               NaN  11500.87   6066.69   \n",
       "79321     CHILLI LIGHTS                        2296.75  11475.07   4678.13   \n",
       "85099B    JUMBO BAG RED RETROSPOT              7114.70  11458.21   9409.95   \n",
       "\n",
       "Month_name                                       Sep11  \n",
       "StockCode Description                                   \n",
       "DOT       DOTCOM POSTAGE                      15177.40  \n",
       "23084     RABBIT NIGHT LIGHT                    699.78  \n",
       "22086     PAPER CHAIN KIT 50'S CHRISTMAS       6006.10  \n",
       "85123A    WHITE HANGING HEART T-LIGHT HOLDER   6892.56  \n",
       "22197     POPCORN HOLDER                       3457.78  \n",
       "22910     PAPER CHAIN KIT VINTAGE CHRISTMAS    4495.46  \n",
       "22423     REGENCY CAKESTAND 3 TIER             9315.03  \n",
       "23355     HOT WATER BOTTLE KEEP CALM           6289.19  \n",
       "79321     CHILLI LIGHTS                        3677.39  \n",
       "85099B    JUMBO BAG RED RETROSPOT              8634.61  "
      ]
     },
     "execution_count": 32,
     "metadata": {},
     "output_type": "execute_result"
    }
   ],
   "source": [
    "pivot.head(10)"
   ]
  },
  {
   "cell_type": "markdown",
   "metadata": {},
   "source": [
    "As we can see in the pivot table above, top 10 items of November 2011 are sold significantly higher than in the other months. This might be due to christmas is around the corner so that people are buying gifts and new stuffs in November."
   ]
  },
  {
   "cell_type": "markdown",
   "metadata": {},
   "source": []
  },
  {
   "cell_type": "markdown",
   "metadata": {},
   "source": [
    "## Most and Least Popular Items"
   ]
  },
  {
   "cell_type": "markdown",
   "metadata": {},
   "source": [
    "Discovering what are the most and least popular products based on the quantity"
   ]
  },
  {
   "cell_type": "code",
   "execution_count": 33,
   "metadata": {},
   "outputs": [],
   "source": [
    "qty=df.pivot_table(index=['StockCode','Description'], values='Quantity', aggfunc='sum').sort_values(by='Quantity', ascending=False)"
   ]
  },
  {
   "cell_type": "code",
   "execution_count": 34,
   "metadata": {},
   "outputs": [
    {
     "data": {
      "text/html": [
       "<div>\n",
       "<style scoped>\n",
       "    .dataframe tbody tr th:only-of-type {\n",
       "        vertical-align: middle;\n",
       "    }\n",
       "\n",
       "    .dataframe tbody tr th {\n",
       "        vertical-align: top;\n",
       "    }\n",
       "\n",
       "    .dataframe thead th {\n",
       "        text-align: right;\n",
       "    }\n",
       "</style>\n",
       "<table border=\"1\" class=\"dataframe\">\n",
       "  <thead>\n",
       "    <tr style=\"text-align: right;\">\n",
       "      <th></th>\n",
       "      <th>StockCode</th>\n",
       "      <th>Description</th>\n",
       "      <th>Quantity</th>\n",
       "    </tr>\n",
       "  </thead>\n",
       "  <tbody>\n",
       "    <tr>\n",
       "      <th>0</th>\n",
       "      <td>84077</td>\n",
       "      <td>WORLD WAR 2 GLIDERS ASSTD DESIGNS</td>\n",
       "      <td>53847</td>\n",
       "    </tr>\n",
       "    <tr>\n",
       "      <th>1</th>\n",
       "      <td>85099B</td>\n",
       "      <td>JUMBO BAG RED RETROSPOT</td>\n",
       "      <td>47363</td>\n",
       "    </tr>\n",
       "    <tr>\n",
       "      <th>2</th>\n",
       "      <td>84879</td>\n",
       "      <td>ASSORTED COLOUR BIRD ORNAMENT</td>\n",
       "      <td>36381</td>\n",
       "    </tr>\n",
       "    <tr>\n",
       "      <th>3</th>\n",
       "      <td>22197</td>\n",
       "      <td>POPCORN HOLDER</td>\n",
       "      <td>36334</td>\n",
       "    </tr>\n",
       "    <tr>\n",
       "      <th>4</th>\n",
       "      <td>21212</td>\n",
       "      <td>PACK OF 72 RETROSPOT CAKE CASES</td>\n",
       "      <td>36039</td>\n",
       "    </tr>\n",
       "  </tbody>\n",
       "</table>\n",
       "</div>"
      ],
      "text/plain": [
       "  StockCode                        Description  Quantity\n",
       "0     84077  WORLD WAR 2 GLIDERS ASSTD DESIGNS     53847\n",
       "1    85099B            JUMBO BAG RED RETROSPOT     47363\n",
       "2     84879      ASSORTED COLOUR BIRD ORNAMENT     36381\n",
       "3     22197                     POPCORN HOLDER     36334\n",
       "4     21212    PACK OF 72 RETROSPOT CAKE CASES     36039"
      ]
     },
     "execution_count": 34,
     "metadata": {},
     "output_type": "execute_result"
    }
   ],
   "source": [
    "qty.reset_index(inplace=True)\n",
    "qty.head()"
   ]
  },
  {
   "cell_type": "code",
   "execution_count": 35,
   "metadata": {},
   "outputs": [
    {
     "data": {
      "text/plain": [
       "Text(0, 0.5, 'Item')"
      ]
     },
     "execution_count": 35,
     "metadata": {},
     "output_type": "execute_result"
    },
    {
     "data": {
      "image/png": "[encoded data removed]",
      "text/plain": [
       "<Figure size 432x288 with 1 Axes>"
      ]
     },
     "metadata": {},
     "output_type": "display_data"
    }
   ],
   "source": [
    "sns.barplot(y='Description', x='Quantity', data=qty.head(10))\n",
    "plt.title('Top 10 Most Popular Items', fontsize=14)\n",
    "plt.ylabel('Item')"
   ]
  },
  {
   "cell_type": "code",
   "execution_count": 50,
   "metadata": {},
   "outputs": [
    {
     "data": {
      "text/plain": [
       "Text(0, 0.5, 'Item')"
      ]
     },
     "execution_count": 50,
     "metadata": {},
     "output_type": "execute_result"
    },
    {
     "data": {
      "image/png": "[encoded data removed]",
      "text/plain": [
       "<Figure size 432x288 with 1 Axes>"
      ]
     },
     "metadata": {},
     "output_type": "display_data"
    }
   ],
   "source": [
    "sns.barplot(y='Description', x='Quantity', data=qty.tail(10))\n",
    "plt.title('Top 10 Most Popular Items', fontsize=14)\n",
    "plt.ylabel('Item')"
   ]
  },
  {
   "cell_type": "markdown",
   "metadata": {},
   "source": [
    "The data above doesn't actually make sense since the quantity is less than 0. <br>\n",
    "Therefore we will drop the dataframe which quantity <=0"
   ]
  },
  {
   "cell_type": "code",
   "execution_count": 51,
   "metadata": {},
   "outputs": [],
   "source": [
    "qty=qty[qty['Quantity']>0]"
   ]
  },
  {
   "cell_type": "code",
   "execution_count": 53,
   "metadata": {},
   "outputs": [
    {
     "data": {
      "text/plain": [
       "Text(0, 0.5, 'Item')"
      ]
     },
     "execution_count": 53,
     "metadata": {},
     "output_type": "execute_result"
    },
    {
     "data": {
      "image/png": "[encoded data removed]",
      "text/plain": [
       "<Figure size 432x288 with 1 Axes>"
      ]
     },
     "metadata": {},
     "output_type": "display_data"
    }
   ],
   "source": [
    "sns.barplot(y='Description', x='Quantity', data=qty.tail(10))\n",
    "plt.title('Top 10 Least Popular Items', fontsize=14)\n",
    "plt.ylabel('Item')"
   ]
  },
  {
   "cell_type": "markdown",
   "metadata": {},
   "source": [
    "### Discovering countries with most transaction"
   ]
  },
  {
   "cell_type": "code",
   "execution_count": 70,
   "metadata": {},
   "outputs": [],
   "source": [
    "bycountry=df.groupby('Country').sum()"
   ]
  },
  {
   "cell_type": "code",
   "execution_count": 71,
   "metadata": {},
   "outputs": [],
   "source": [
    "bycountry.reset_index(inplace=True)"
   ]
  },
  {
   "cell_type": "code",
   "execution_count": 74,
   "metadata": {},
   "outputs": [
    {
     "data": {
      "text/html": [
       "<div>\n",
       "<style scoped>\n",
       "    .dataframe tbody tr th:only-of-type {\n",
       "        vertical-align: middle;\n",
       "    }\n",
       "\n",
       "    .dataframe tbody tr th {\n",
       "        vertical-align: top;\n",
       "    }\n",
       "\n",
       "    .dataframe thead th {\n",
       "        text-align: right;\n",
       "    }\n",
       "</style>\n",
       "<table border=\"1\" class=\"dataframe\">\n",
       "  <thead>\n",
       "    <tr style=\"text-align: right;\">\n",
       "      <th></th>\n",
       "      <th>Country</th>\n",
       "      <th>Quantity</th>\n",
       "      <th>UnitPrice</th>\n",
       "      <th>CustomerID</th>\n",
       "      <th>total_transaction</th>\n",
       "      <th>Month</th>\n",
       "      <th>Year</th>\n",
       "    </tr>\n",
       "  </thead>\n",
       "  <tbody>\n",
       "    <tr>\n",
       "      <th>36</th>\n",
       "      <td>United Kingdom</td>\n",
       "      <td>4263829</td>\n",
       "      <td>2.245715e+06</td>\n",
       "      <td>5.626433e+09</td>\n",
       "      <td>8.187806e+06</td>\n",
       "      <td>3752122</td>\n",
       "      <td>996366133</td>\n",
       "    </tr>\n",
       "    <tr>\n",
       "      <th>24</th>\n",
       "      <td>Netherlands</td>\n",
       "      <td>200128</td>\n",
       "      <td>6.492550e+03</td>\n",
       "      <td>3.419054e+07</td>\n",
       "      <td>2.846615e+05</td>\n",
       "      <td>15981</td>\n",
       "      <td>4768009</td>\n",
       "    </tr>\n",
       "    <tr>\n",
       "      <th>10</th>\n",
       "      <td>EIRE</td>\n",
       "      <td>142637</td>\n",
       "      <td>4.844719e+04</td>\n",
       "      <td>1.103917e+08</td>\n",
       "      <td>2.632768e+05</td>\n",
       "      <td>62967</td>\n",
       "      <td>16481753</td>\n",
       "    </tr>\n",
       "    <tr>\n",
       "      <th>14</th>\n",
       "      <td>Germany</td>\n",
       "      <td>117448</td>\n",
       "      <td>3.766600e+04</td>\n",
       "      <td>1.200751e+08</td>\n",
       "      <td>2.216982e+05</td>\n",
       "      <td>69223</td>\n",
       "      <td>19093880</td>\n",
       "    </tr>\n",
       "    <tr>\n",
       "      <th>13</th>\n",
       "      <td>France</td>\n",
       "      <td>110480</td>\n",
       "      <td>4.303199e+04</td>\n",
       "      <td>1.076489e+08</td>\n",
       "      <td>1.974039e+05</td>\n",
       "      <td>64339</td>\n",
       "      <td>17207688</td>\n",
       "    </tr>\n",
       "  </tbody>\n",
       "</table>\n",
       "</div>"
      ],
      "text/plain": [
       "           Country  Quantity     UnitPrice    CustomerID  total_transaction  \\\n",
       "36  United Kingdom   4263829  2.245715e+06  5.626433e+09       8.187806e+06   \n",
       "24     Netherlands    200128  6.492550e+03  3.419054e+07       2.846615e+05   \n",
       "10            EIRE    142637  4.844719e+04  1.103917e+08       2.632768e+05   \n",
       "14         Germany    117448  3.766600e+04  1.200751e+08       2.216982e+05   \n",
       "13          France    110480  4.303199e+04  1.076489e+08       1.974039e+05   \n",
       "\n",
       "      Month       Year  \n",
       "36  3752122  996366133  \n",
       "24    15981    4768009  \n",
       "10    62967   16481753  \n",
       "14    69223   19093880  \n",
       "13    64339   17207688  "
      ]
     },
     "execution_count": 74,
     "metadata": {},
     "output_type": "execute_result"
    }
   ],
   "source": [
    "bycountry.sort_values(by='total_transaction', ascending=False).head()"
   ]
  },
  {
   "cell_type": "code",
   "execution_count": 77,
   "metadata": {},
   "outputs": [
    {
     "data": {
      "text/plain": [
       "Text(0.5, 1.0, '5 Countries with Most Transaction')"
      ]
     },
     "execution_count": 77,
     "metadata": {},
     "output_type": "execute_result"
    },
    {
     "data": {
      "image/png": "[encoded data removed]",
      "text/plain": [
       "<Figure size 432x288 with 1 Axes>"
      ]
     },
     "metadata": {},
     "output_type": "display_data"
    }
   ],
   "source": [
    "sns.barplot(x='total_transaction', y='Country', data=bycountry.sort_values(by='total_transaction', ascending=False).head())\n",
    "plt.xlabel('Total Transaction')\n",
    "plt.title('5 Countries with Most Transaction')"
   ]
  },
  {
   "cell_type": "markdown",
   "metadata": {},
   "source": [
    "From the graph above we know that 5 top countries in terms of total transactions are UK, Netherlands, EIRE, Germany, and France"
   ]
  },
  {
   "cell_type": "markdown",
   "metadata": {},
   "source": [
    "### Discovering most popular items of top countries"
   ]
  },
  {
   "cell_type": "code",
   "execution_count": 78,
   "metadata": {},
   "outputs": [],
   "source": [
    "indexed=df.pivot_table(index=['Country','StockCode','Description'], values='Quantity', aggfunc='sum').reset_index()"
   ]
  },
  {
   "cell_type": "code",
   "execution_count": 93,
   "metadata": {},
   "outputs": [
    {
     "data": {
      "text/plain": [
       "Text(0, 0.5, 'Item')"
      ]
     },
     "execution_count": 93,
     "metadata": {},
     "output_type": "execute_result"
    },
    {
     "data": {
      "image/png": "[encoded data removed]",
      "text/plain": [
       "<Figure size 432x288 with 1 Axes>"
      ]
     },
     "metadata": {},
     "output_type": "display_data"
    }
   ],
   "source": [
    "sns.barplot(y='Description', x='Quantity', data=indexed[indexed['Country']=='United Kingdom'].sort_values(by='Quantity', ascending=False).head(10))\n",
    "plt.title('Top 10 Most Popular Items in UK', fontsize=14)\n",
    "plt.ylabel('Item')"
   ]
  },
  {
   "cell_type": "code",
   "execution_count": 94,
   "metadata": {},
   "outputs": [
    {
     "data": {
      "text/plain": [
       "Text(0, 0.5, 'Item')"
      ]
     },
     "execution_count": 94,
     "metadata": {},
     "output_type": "execute_result"
    },
    {
     "data": {
      "image/png": "[encoded data removed]",
      "text/plain": [
       "<Figure size 432x288 with 1 Axes>"
      ]
     },
     "metadata": {},
     "output_type": "display_data"
    }
   ],
   "source": [
    "sns.barplot(y='Description', x='Quantity', data=indexed[indexed['Country']=='Netherlands'].sort_values(by='Quantity', ascending=False).head(10))\n",
    "plt.title('Top 10 Most Popular Items in Netherlands', fontsize=14)\n",
    "plt.ylabel('Item')"
   ]
  },
  {
   "cell_type": "code",
   "execution_count": 89,
   "metadata": {},
   "outputs": [
    {
     "data": {
      "text/plain": [
       "Text(0, 0.5, 'Item')"
      ]
     },
     "execution_count": 89,
     "metadata": {},
     "output_type": "execute_result"
    },
    {
     "data": {
      "image/png": "[encoded data removed]",
      "text/plain": [
       "<Figure size 432x288 with 1 Axes>"
      ]
     },
     "metadata": {},
     "output_type": "display_data"
    }
   ],
   "source": [
    "sns.barplot(y='Description', x='Quantity', data=indexed[indexed['Country']=='EIRE'].sort_values(by='Quantity', ascending=False).head(10))\n",
    "plt.title('Top 10 Most Popular Items in EIRE', fontsize=14)\n",
    "plt.ylabel('Item')"
   ]
  },
  {
   "cell_type": "code",
   "execution_count": 91,
   "metadata": {},
   "outputs": [
    {
     "data": {
      "text/plain": [
       "Text(0, 0.5, 'Item')"
      ]
     },
     "execution_count": 91,
     "metadata": {},
     "output_type": "execute_result"
    },
    {
     "data": {
      "image/png": "[encoded data removed]",
      "text/plain": [
       "<Figure size 432x288 with 1 Axes>"
      ]
     },
     "metadata": {},
     "output_type": "display_data"
    }
   ],
   "source": [
    "sns.barplot(y='Description', x='Quantity', data=indexed[indexed['Country']=='Germany'].sort_values(by='Quantity', ascending=False).head(10))\n",
    "plt.title('Top 10 Most Popular Items in Germany', fontsize=14)\n",
    "plt.ylabel('Item')"
   ]
  },
  {
   "cell_type": "code",
   "execution_count": 92,
   "metadata": {},
   "outputs": [
    {
     "data": {
      "text/plain": [
       "Text(0, 0.5, 'Item')"
      ]
     },
     "execution_count": 92,
     "metadata": {},
     "output_type": "execute_result"
    },
    {
     "data": {
      "image/png": "[encoded data removed]",
      "text/plain": [
       "<Figure size 432x288 with 1 Axes>"
      ]
     },
     "metadata": {},
     "output_type": "display_data"
    }
   ],
   "source": [
    "sns.barplot(y='Description', x='Quantity', data=indexed[indexed['Country']=='France'].sort_values(by='Quantity', ascending=False).head(10))\n",
    "plt.title('Top 10 Most Popular Items in France', fontsize=14)\n",
    "plt.ylabel('Item')"
   ]
  },
  {
   "cell_type": "markdown",
   "metadata": {},
   "source": [
    "## Customer Churn"
   ]
  },
  {
   "cell_type": "markdown",
   "metadata": {},
   "source": [
    "Assume that customers who didn't do any transactions for the last 6 months are categorized as churn."
   ]
  },
  {
   "cell_type": "markdown",
   "metadata": {},
   "source": [
    "First, figure out the last date of InvoiceDate as a point of reference"
   ]
  },
  {
   "cell_type": "code",
   "execution_count": 39,
   "metadata": {},
   "outputs": [
    {
     "data": {
      "text/html": [
       "<div>\n",
       "<style scoped>\n",
       "    .dataframe tbody tr th:only-of-type {\n",
       "        vertical-align: middle;\n",
       "    }\n",
       "\n",
       "    .dataframe tbody tr th {\n",
       "        vertical-align: top;\n",
       "    }\n",
       "\n",
       "    .dataframe thead th {\n",
       "        text-align: right;\n",
       "    }\n",
       "</style>\n",
       "<table border=\"1\" class=\"dataframe\">\n",
       "  <thead>\n",
       "    <tr style=\"text-align: right;\">\n",
       "      <th></th>\n",
       "      <th>InvoiceNo</th>\n",
       "      <th>StockCode</th>\n",
       "      <th>Description</th>\n",
       "      <th>Quantity</th>\n",
       "      <th>InvoiceDate</th>\n",
       "      <th>UnitPrice</th>\n",
       "      <th>CustomerID</th>\n",
       "      <th>Country</th>\n",
       "      <th>total_transaction</th>\n",
       "      <th>Month</th>\n",
       "      <th>Year</th>\n",
       "      <th>Month_name</th>\n",
       "    </tr>\n",
       "  </thead>\n",
       "  <tbody>\n",
       "    <tr>\n",
       "      <th>541908</th>\n",
       "      <td>581587</td>\n",
       "      <td>22138</td>\n",
       "      <td>BAKING SET 9 PIECE RETROSPOT</td>\n",
       "      <td>3</td>\n",
       "      <td>2011-12-09 12:50:00</td>\n",
       "      <td>4.95</td>\n",
       "      <td>12680.0</td>\n",
       "      <td>France</td>\n",
       "      <td>14.85</td>\n",
       "      <td>12</td>\n",
       "      <td>2011</td>\n",
       "      <td>Dec11</td>\n",
       "    </tr>\n",
       "  </tbody>\n",
       "</table>\n",
       "</div>"
      ],
      "text/plain": [
       "       InvoiceNo StockCode                    Description  Quantity  \\\n",
       "541908    581587     22138  BAKING SET 9 PIECE RETROSPOT          3   \n",
       "\n",
       "               InvoiceDate  UnitPrice  CustomerID Country  total_transaction  \\\n",
       "541908 2011-12-09 12:50:00       4.95     12680.0  France              14.85   \n",
       "\n",
       "        Month  Year Month_name  \n",
       "541908     12  2011      Dec11  "
      ]
     },
     "execution_count": 39,
     "metadata": {},
     "output_type": "execute_result"
    }
   ],
   "source": [
    "df.sort_values(by='InvoiceDate', ascending=False).head(1)"
   ]
  },
  {
   "cell_type": "markdown",
   "metadata": {},
   "source": [
    "So the last InvoiceDate is 2011-12-09"
   ]
  },
  {
   "cell_type": "markdown",
   "metadata": {},
   "source": [
    "That means customers who did not have any transaction data since 2011-06-09 (6 months to the last invoice date), are categorized as churn."
   ]
  },
  {
   "cell_type": "markdown",
   "metadata": {},
   "source": [
    "Group dataframe by CustomerID, set aggregate function as max() and grab the invoice date"
   ]
  },
  {
   "cell_type": "code",
   "execution_count": 41,
   "metadata": {},
   "outputs": [],
   "source": [
    "cust=df.groupby('CustomerID').max().sort_values(by='InvoiceDate', ascending=False)"
   ]
  },
  {
   "cell_type": "code",
   "execution_count": 42,
   "metadata": {},
   "outputs": [],
   "source": [
    "cust.loc[cust['InvoiceDate'] < '2011-06-09', 'Churn']='Yes'\n",
    "cust.loc[cust['InvoiceDate'] >= '2011-06-09', 'Churn']='No'"
   ]
  },
  {
   "cell_type": "code",
   "execution_count": 43,
   "metadata": {},
   "outputs": [
    {
     "data": {
      "text/html": [
       "<div>\n",
       "<style scoped>\n",
       "    .dataframe tbody tr th:only-of-type {\n",
       "        vertical-align: middle;\n",
       "    }\n",
       "\n",
       "    .dataframe tbody tr th {\n",
       "        vertical-align: top;\n",
       "    }\n",
       "\n",
       "    .dataframe thead th {\n",
       "        text-align: right;\n",
       "    }\n",
       "</style>\n",
       "<table border=\"1\" class=\"dataframe\">\n",
       "  <thead>\n",
       "    <tr style=\"text-align: right;\">\n",
       "      <th></th>\n",
       "      <th>InvoiceNo</th>\n",
       "      <th>StockCode</th>\n",
       "      <th>Description</th>\n",
       "      <th>Quantity</th>\n",
       "      <th>InvoiceDate</th>\n",
       "      <th>UnitPrice</th>\n",
       "      <th>Country</th>\n",
       "      <th>total_transaction</th>\n",
       "      <th>Month</th>\n",
       "      <th>Year</th>\n",
       "      <th>Month_name</th>\n",
       "      <th>Churn</th>\n",
       "    </tr>\n",
       "    <tr>\n",
       "      <th>CustomerID</th>\n",
       "      <th></th>\n",
       "      <th></th>\n",
       "      <th></th>\n",
       "      <th></th>\n",
       "      <th></th>\n",
       "      <th></th>\n",
       "      <th></th>\n",
       "      <th></th>\n",
       "      <th></th>\n",
       "      <th></th>\n",
       "      <th></th>\n",
       "      <th></th>\n",
       "    </tr>\n",
       "  </thead>\n",
       "  <tbody>\n",
       "    <tr>\n",
       "      <th>12680.0</th>\n",
       "      <td>581587</td>\n",
       "      <td>POST</td>\n",
       "      <td>SPACEBOY LUNCH BOX</td>\n",
       "      <td>36</td>\n",
       "      <td>2011-12-09 12:50:00</td>\n",
       "      <td>18.00</td>\n",
       "      <td>France</td>\n",
       "      <td>36.00</td>\n",
       "      <td>12</td>\n",
       "      <td>2011</td>\n",
       "      <td>Sep11</td>\n",
       "      <td>No</td>\n",
       "    </tr>\n",
       "    <tr>\n",
       "      <th>13113.0</th>\n",
       "      <td>C570274</td>\n",
       "      <td>M</td>\n",
       "      <td>WICKER STAR</td>\n",
       "      <td>200</td>\n",
       "      <td>2011-12-09 12:49:00</td>\n",
       "      <td>12.75</td>\n",
       "      <td>United Kingdom</td>\n",
       "      <td>1700.00</td>\n",
       "      <td>12</td>\n",
       "      <td>2011</td>\n",
       "      <td>Oct11</td>\n",
       "      <td>No</td>\n",
       "    </tr>\n",
       "    <tr>\n",
       "      <th>15804.0</th>\n",
       "      <td>C578110</td>\n",
       "      <td>90205A</td>\n",
       "      <td>ZINC WILLIE WINKIE  CANDLE STICK</td>\n",
       "      <td>48</td>\n",
       "      <td>2011-12-09 12:31:00</td>\n",
       "      <td>125.00</td>\n",
       "      <td>United Kingdom</td>\n",
       "      <td>250.00</td>\n",
       "      <td>12</td>\n",
       "      <td>2011</td>\n",
       "      <td>Sep11</td>\n",
       "      <td>No</td>\n",
       "    </tr>\n",
       "    <tr>\n",
       "      <th>13777.0</th>\n",
       "      <td>C579752</td>\n",
       "      <td>M</td>\n",
       "      <td>WHITE HANGING HEART T-LIGHT HOLDER</td>\n",
       "      <td>504</td>\n",
       "      <td>2011-12-09 12:25:00</td>\n",
       "      <td>12.75</td>\n",
       "      <td>United Kingdom</td>\n",
       "      <td>1383.12</td>\n",
       "      <td>12</td>\n",
       "      <td>2011</td>\n",
       "      <td>Sep11</td>\n",
       "      <td>No</td>\n",
       "    </tr>\n",
       "    <tr>\n",
       "      <th>17581.0</th>\n",
       "      <td>C568571</td>\n",
       "      <td>85231G</td>\n",
       "      <td>ZINC FOLKART SLEIGH BELLS</td>\n",
       "      <td>50</td>\n",
       "      <td>2011-12-09 12:21:00</td>\n",
       "      <td>195.00</td>\n",
       "      <td>United Kingdom</td>\n",
       "      <td>195.00</td>\n",
       "      <td>12</td>\n",
       "      <td>2011</td>\n",
       "      <td>Sep11</td>\n",
       "      <td>No</td>\n",
       "    </tr>\n",
       "    <tr>\n",
       "      <th>...</th>\n",
       "      <td>...</td>\n",
       "      <td>...</td>\n",
       "      <td>...</td>\n",
       "      <td>...</td>\n",
       "      <td>...</td>\n",
       "      <td>...</td>\n",
       "      <td>...</td>\n",
       "      <td>...</td>\n",
       "      <td>...</td>\n",
       "      <td>...</td>\n",
       "      <td>...</td>\n",
       "      <td>...</td>\n",
       "    </tr>\n",
       "    <tr>\n",
       "      <th>16583.0</th>\n",
       "      <td>536420</td>\n",
       "      <td>22969</td>\n",
       "      <td>WOODEN BOX OF DOMINOES</td>\n",
       "      <td>12</td>\n",
       "      <td>2010-12-01 12:03:00</td>\n",
       "      <td>4.95</td>\n",
       "      <td>United Kingdom</td>\n",
       "      <td>20.40</td>\n",
       "      <td>12</td>\n",
       "      <td>2010</td>\n",
       "      <td>Dec10</td>\n",
       "      <td>Yes</td>\n",
       "    </tr>\n",
       "    <tr>\n",
       "      <th>17908.0</th>\n",
       "      <td>536409</td>\n",
       "      <td>90210B</td>\n",
       "      <td>WHITE SKULL HOT WATER BOTTLE</td>\n",
       "      <td>28</td>\n",
       "      <td>2010-12-01 11:45:00</td>\n",
       "      <td>7.95</td>\n",
       "      <td>United Kingdom</td>\n",
       "      <td>19.05</td>\n",
       "      <td>12</td>\n",
       "      <td>2010</td>\n",
       "      <td>Dec10</td>\n",
       "      <td>Yes</td>\n",
       "    </tr>\n",
       "    <tr>\n",
       "      <th>12791.0</th>\n",
       "      <td>536403</td>\n",
       "      <td>POST</td>\n",
       "      <td>POSTAGE</td>\n",
       "      <td>96</td>\n",
       "      <td>2010-12-01 11:27:00</td>\n",
       "      <td>15.00</td>\n",
       "      <td>Netherlands</td>\n",
       "      <td>177.60</td>\n",
       "      <td>12</td>\n",
       "      <td>2010</td>\n",
       "      <td>Dec10</td>\n",
       "      <td>Yes</td>\n",
       "    </tr>\n",
       "    <tr>\n",
       "      <th>13747.0</th>\n",
       "      <td>536393</td>\n",
       "      <td>22180</td>\n",
       "      <td>RETROSPOT LAMP</td>\n",
       "      <td>8</td>\n",
       "      <td>2010-12-01 10:37:00</td>\n",
       "      <td>9.95</td>\n",
       "      <td>United Kingdom</td>\n",
       "      <td>79.60</td>\n",
       "      <td>12</td>\n",
       "      <td>2010</td>\n",
       "      <td>Dec10</td>\n",
       "      <td>Yes</td>\n",
       "    </tr>\n",
       "    <tr>\n",
       "      <th>18074.0</th>\n",
       "      <td>536384</td>\n",
       "      <td>84755</td>\n",
       "      <td>WOOD BLACK BOARD ANT WHITE FINISH</td>\n",
       "      <td>48</td>\n",
       "      <td>2010-12-01 09:53:00</td>\n",
       "      <td>12.75</td>\n",
       "      <td>United Kingdom</td>\n",
       "      <td>102.00</td>\n",
       "      <td>12</td>\n",
       "      <td>2010</td>\n",
       "      <td>Dec10</td>\n",
       "      <td>Yes</td>\n",
       "    </tr>\n",
       "  </tbody>\n",
       "</table>\n",
       "<p>4372 rows × 12 columns</p>\n",
       "</div>"
      ],
      "text/plain": [
       "           InvoiceNo StockCode                         Description  Quantity  \\\n",
       "CustomerID                                                                     \n",
       "12680.0       581587      POST                 SPACEBOY LUNCH BOX         36   \n",
       "13113.0      C570274         M                        WICKER STAR        200   \n",
       "15804.0      C578110    90205A    ZINC WILLIE WINKIE  CANDLE STICK        48   \n",
       "13777.0      C579752         M  WHITE HANGING HEART T-LIGHT HOLDER       504   \n",
       "17581.0      C568571    85231G           ZINC FOLKART SLEIGH BELLS        50   \n",
       "...              ...       ...                                 ...       ...   \n",
       "16583.0       536420     22969              WOODEN BOX OF DOMINOES        12   \n",
       "17908.0       536409    90210B       WHITE SKULL HOT WATER BOTTLE         28   \n",
       "12791.0       536403      POST                             POSTAGE        96   \n",
       "13747.0       536393     22180                      RETROSPOT LAMP         8   \n",
       "18074.0       536384     84755   WOOD BLACK BOARD ANT WHITE FINISH        48   \n",
       "\n",
       "                   InvoiceDate  UnitPrice         Country  total_transaction  \\\n",
       "CustomerID                                                                     \n",
       "12680.0    2011-12-09 12:50:00      18.00          France              36.00   \n",
       "13113.0    2011-12-09 12:49:00      12.75  United Kingdom            1700.00   \n",
       "15804.0    2011-12-09 12:31:00     125.00  United Kingdom             250.00   \n",
       "13777.0    2011-12-09 12:25:00      12.75  United Kingdom            1383.12   \n",
       "17581.0    2011-12-09 12:21:00     195.00  United Kingdom             195.00   \n",
       "...                        ...        ...             ...                ...   \n",
       "16583.0    2010-12-01 12:03:00       4.95  United Kingdom              20.40   \n",
       "17908.0    2010-12-01 11:45:00       7.95  United Kingdom              19.05   \n",
       "12791.0    2010-12-01 11:27:00      15.00     Netherlands             177.60   \n",
       "13747.0    2010-12-01 10:37:00       9.95  United Kingdom              79.60   \n",
       "18074.0    2010-12-01 09:53:00      12.75  United Kingdom             102.00   \n",
       "\n",
       "            Month  Year Month_name Churn  \n",
       "CustomerID                                \n",
       "12680.0        12  2011      Sep11    No  \n",
       "13113.0        12  2011      Oct11    No  \n",
       "15804.0        12  2011      Sep11    No  \n",
       "13777.0        12  2011      Sep11    No  \n",
       "17581.0        12  2011      Sep11    No  \n",
       "...           ...   ...        ...   ...  \n",
       "16583.0        12  2010      Dec10   Yes  \n",
       "17908.0        12  2010      Dec10   Yes  \n",
       "12791.0        12  2010      Dec10   Yes  \n",
       "13747.0        12  2010      Dec10   Yes  \n",
       "18074.0        12  2010      Dec10   Yes  \n",
       "\n",
       "[4372 rows x 12 columns]"
      ]
     },
     "execution_count": 43,
     "metadata": {},
     "output_type": "execute_result"
    }
   ],
   "source": [
    "cust"
   ]
  },
  {
   "cell_type": "markdown",
   "metadata": {},
   "source": [
    "So there are 4372 customers.<br/>\n",
    "All the customers categorized as churn are as follows:"
   ]
  },
  {
   "cell_type": "code",
   "execution_count": 44,
   "metadata": {},
   "outputs": [
    {
     "data": {
      "text/html": [
       "<div>\n",
       "<style scoped>\n",
       "    .dataframe tbody tr th:only-of-type {\n",
       "        vertical-align: middle;\n",
       "    }\n",
       "\n",
       "    .dataframe tbody tr th {\n",
       "        vertical-align: top;\n",
       "    }\n",
       "\n",
       "    .dataframe thead th {\n",
       "        text-align: right;\n",
       "    }\n",
       "</style>\n",
       "<table border=\"1\" class=\"dataframe\">\n",
       "  <thead>\n",
       "    <tr style=\"text-align: right;\">\n",
       "      <th></th>\n",
       "      <th>InvoiceNo</th>\n",
       "      <th>StockCode</th>\n",
       "      <th>Description</th>\n",
       "      <th>Quantity</th>\n",
       "      <th>InvoiceDate</th>\n",
       "      <th>UnitPrice</th>\n",
       "      <th>Country</th>\n",
       "      <th>total_transaction</th>\n",
       "      <th>Month</th>\n",
       "      <th>Year</th>\n",
       "      <th>Month_name</th>\n",
       "      <th>Churn</th>\n",
       "    </tr>\n",
       "    <tr>\n",
       "      <th>CustomerID</th>\n",
       "      <th></th>\n",
       "      <th></th>\n",
       "      <th></th>\n",
       "      <th></th>\n",
       "      <th></th>\n",
       "      <th></th>\n",
       "      <th></th>\n",
       "      <th></th>\n",
       "      <th></th>\n",
       "      <th></th>\n",
       "      <th></th>\n",
       "      <th></th>\n",
       "    </tr>\n",
       "  </thead>\n",
       "  <tbody>\n",
       "    <tr>\n",
       "      <th>16832.0</th>\n",
       "      <td>556098</td>\n",
       "      <td>47590A</td>\n",
       "      <td>ROSE COTTAGE KEEPSAKE BOX</td>\n",
       "      <td>12</td>\n",
       "      <td>2011-06-08 15:36:00</td>\n",
       "      <td>16.95</td>\n",
       "      <td>United Kingdom</td>\n",
       "      <td>62.50</td>\n",
       "      <td>6</td>\n",
       "      <td>2011</td>\n",
       "      <td>May11</td>\n",
       "      <td>Yes</td>\n",
       "    </tr>\n",
       "    <tr>\n",
       "      <th>14622.0</th>\n",
       "      <td>556040</td>\n",
       "      <td>85099C</td>\n",
       "      <td>WOODEN PICTURE FRAME WHITE FINISH</td>\n",
       "      <td>24</td>\n",
       "      <td>2011-06-08 12:42:00</td>\n",
       "      <td>7.95</td>\n",
       "      <td>United Kingdom</td>\n",
       "      <td>23.60</td>\n",
       "      <td>6</td>\n",
       "      <td>2011</td>\n",
       "      <td>Jun11</td>\n",
       "      <td>Yes</td>\n",
       "    </tr>\n",
       "    <tr>\n",
       "      <th>16955.0</th>\n",
       "      <td>C538725</td>\n",
       "      <td>47590B</td>\n",
       "      <td>RIBBON REEL POLKADOTS</td>\n",
       "      <td>48</td>\n",
       "      <td>2011-06-08 10:36:00</td>\n",
       "      <td>16.95</td>\n",
       "      <td>United Kingdom</td>\n",
       "      <td>50.85</td>\n",
       "      <td>12</td>\n",
       "      <td>2011</td>\n",
       "      <td>Jun11</td>\n",
       "      <td>Yes</td>\n",
       "    </tr>\n",
       "    <tr>\n",
       "      <th>17409.0</th>\n",
       "      <td>555945</td>\n",
       "      <td>85014B</td>\n",
       "      <td>WHITE LOVEBIRD LANTERN</td>\n",
       "      <td>12</td>\n",
       "      <td>2011-06-08 10:36:00</td>\n",
       "      <td>14.95</td>\n",
       "      <td>United Kingdom</td>\n",
       "      <td>119.60</td>\n",
       "      <td>6</td>\n",
       "      <td>2011</td>\n",
       "      <td>Jun11</td>\n",
       "      <td>Yes</td>\n",
       "    </tr>\n",
       "    <tr>\n",
       "      <th>12383.0</th>\n",
       "      <td>C541586</td>\n",
       "      <td>POST</td>\n",
       "      <td>WHITE WOOD GARDEN PLANT LADDER</td>\n",
       "      <td>144</td>\n",
       "      <td>2011-06-08 08:02:00</td>\n",
       "      <td>18.00</td>\n",
       "      <td>Belgium</td>\n",
       "      <td>72.00</td>\n",
       "      <td>12</td>\n",
       "      <td>2011</td>\n",
       "      <td>Mar11</td>\n",
       "      <td>Yes</td>\n",
       "    </tr>\n",
       "    <tr>\n",
       "      <th>...</th>\n",
       "      <td>...</td>\n",
       "      <td>...</td>\n",
       "      <td>...</td>\n",
       "      <td>...</td>\n",
       "      <td>...</td>\n",
       "      <td>...</td>\n",
       "      <td>...</td>\n",
       "      <td>...</td>\n",
       "      <td>...</td>\n",
       "      <td>...</td>\n",
       "      <td>...</td>\n",
       "      <td>...</td>\n",
       "    </tr>\n",
       "    <tr>\n",
       "      <th>16583.0</th>\n",
       "      <td>536420</td>\n",
       "      <td>22969</td>\n",
       "      <td>WOODEN BOX OF DOMINOES</td>\n",
       "      <td>12</td>\n",
       "      <td>2010-12-01 12:03:00</td>\n",
       "      <td>4.95</td>\n",
       "      <td>United Kingdom</td>\n",
       "      <td>20.40</td>\n",
       "      <td>12</td>\n",
       "      <td>2010</td>\n",
       "      <td>Dec10</td>\n",
       "      <td>Yes</td>\n",
       "    </tr>\n",
       "    <tr>\n",
       "      <th>17908.0</th>\n",
       "      <td>536409</td>\n",
       "      <td>90210B</td>\n",
       "      <td>WHITE SKULL HOT WATER BOTTLE</td>\n",
       "      <td>28</td>\n",
       "      <td>2010-12-01 11:45:00</td>\n",
       "      <td>7.95</td>\n",
       "      <td>United Kingdom</td>\n",
       "      <td>19.05</td>\n",
       "      <td>12</td>\n",
       "      <td>2010</td>\n",
       "      <td>Dec10</td>\n",
       "      <td>Yes</td>\n",
       "    </tr>\n",
       "    <tr>\n",
       "      <th>12791.0</th>\n",
       "      <td>536403</td>\n",
       "      <td>POST</td>\n",
       "      <td>POSTAGE</td>\n",
       "      <td>96</td>\n",
       "      <td>2010-12-01 11:27:00</td>\n",
       "      <td>15.00</td>\n",
       "      <td>Netherlands</td>\n",
       "      <td>177.60</td>\n",
       "      <td>12</td>\n",
       "      <td>2010</td>\n",
       "      <td>Dec10</td>\n",
       "      <td>Yes</td>\n",
       "    </tr>\n",
       "    <tr>\n",
       "      <th>13747.0</th>\n",
       "      <td>536393</td>\n",
       "      <td>22180</td>\n",
       "      <td>RETROSPOT LAMP</td>\n",
       "      <td>8</td>\n",
       "      <td>2010-12-01 10:37:00</td>\n",
       "      <td>9.95</td>\n",
       "      <td>United Kingdom</td>\n",
       "      <td>79.60</td>\n",
       "      <td>12</td>\n",
       "      <td>2010</td>\n",
       "      <td>Dec10</td>\n",
       "      <td>Yes</td>\n",
       "    </tr>\n",
       "    <tr>\n",
       "      <th>18074.0</th>\n",
       "      <td>536384</td>\n",
       "      <td>84755</td>\n",
       "      <td>WOOD BLACK BOARD ANT WHITE FINISH</td>\n",
       "      <td>48</td>\n",
       "      <td>2010-12-01 09:53:00</td>\n",
       "      <td>12.75</td>\n",
       "      <td>United Kingdom</td>\n",
       "      <td>102.00</td>\n",
       "      <td>12</td>\n",
       "      <td>2010</td>\n",
       "      <td>Dec10</td>\n",
       "      <td>Yes</td>\n",
       "    </tr>\n",
       "  </tbody>\n",
       "</table>\n",
       "<p>849 rows × 12 columns</p>\n",
       "</div>"
      ],
      "text/plain": [
       "           InvoiceNo StockCode                        Description  Quantity  \\\n",
       "CustomerID                                                                    \n",
       "16832.0       556098    47590A         ROSE COTTAGE KEEPSAKE BOX         12   \n",
       "14622.0       556040    85099C  WOODEN PICTURE FRAME WHITE FINISH        24   \n",
       "16955.0      C538725    47590B             RIBBON REEL POLKADOTS         48   \n",
       "17409.0       555945    85014B             WHITE LOVEBIRD LANTERN        12   \n",
       "12383.0      C541586      POST     WHITE WOOD GARDEN PLANT LADDER       144   \n",
       "...              ...       ...                                ...       ...   \n",
       "16583.0       536420     22969             WOODEN BOX OF DOMINOES        12   \n",
       "17908.0       536409    90210B      WHITE SKULL HOT WATER BOTTLE         28   \n",
       "12791.0       536403      POST                            POSTAGE        96   \n",
       "13747.0       536393     22180                     RETROSPOT LAMP         8   \n",
       "18074.0       536384     84755  WOOD BLACK BOARD ANT WHITE FINISH        48   \n",
       "\n",
       "                   InvoiceDate  UnitPrice         Country  total_transaction  \\\n",
       "CustomerID                                                                     \n",
       "16832.0    2011-06-08 15:36:00      16.95  United Kingdom              62.50   \n",
       "14622.0    2011-06-08 12:42:00       7.95  United Kingdom              23.60   \n",
       "16955.0    2011-06-08 10:36:00      16.95  United Kingdom              50.85   \n",
       "17409.0    2011-06-08 10:36:00      14.95  United Kingdom             119.60   \n",
       "12383.0    2011-06-08 08:02:00      18.00         Belgium              72.00   \n",
       "...                        ...        ...             ...                ...   \n",
       "16583.0    2010-12-01 12:03:00       4.95  United Kingdom              20.40   \n",
       "17908.0    2010-12-01 11:45:00       7.95  United Kingdom              19.05   \n",
       "12791.0    2010-12-01 11:27:00      15.00     Netherlands             177.60   \n",
       "13747.0    2010-12-01 10:37:00       9.95  United Kingdom              79.60   \n",
       "18074.0    2010-12-01 09:53:00      12.75  United Kingdom             102.00   \n",
       "\n",
       "            Month  Year Month_name Churn  \n",
       "CustomerID                                \n",
       "16832.0         6  2011      May11   Yes  \n",
       "14622.0         6  2011      Jun11   Yes  \n",
       "16955.0        12  2011      Jun11   Yes  \n",
       "17409.0         6  2011      Jun11   Yes  \n",
       "12383.0        12  2011      Mar11   Yes  \n",
       "...           ...   ...        ...   ...  \n",
       "16583.0        12  2010      Dec10   Yes  \n",
       "17908.0        12  2010      Dec10   Yes  \n",
       "12791.0        12  2010      Dec10   Yes  \n",
       "13747.0        12  2010      Dec10   Yes  \n",
       "18074.0        12  2010      Dec10   Yes  \n",
       "\n",
       "[849 rows x 12 columns]"
      ]
     },
     "execution_count": 44,
     "metadata": {},
     "output_type": "execute_result"
    }
   ],
   "source": [
    "cust[cust['Churn']=='Yes']"
   ]
  },
  {
   "cell_type": "code",
   "execution_count": 45,
   "metadata": {},
   "outputs": [],
   "source": [
    "churn=cust.reset_index().groupby('Churn').count()"
   ]
  },
  {
   "cell_type": "code",
   "execution_count": 46,
   "metadata": {},
   "outputs": [
    {
     "data": {
      "text/html": [
       "<div>\n",
       "<style scoped>\n",
       "    .dataframe tbody tr th:only-of-type {\n",
       "        vertical-align: middle;\n",
       "    }\n",
       "\n",
       "    .dataframe tbody tr th {\n",
       "        vertical-align: top;\n",
       "    }\n",
       "\n",
       "    .dataframe thead th {\n",
       "        text-align: right;\n",
       "    }\n",
       "</style>\n",
       "<table border=\"1\" class=\"dataframe\">\n",
       "  <thead>\n",
       "    <tr style=\"text-align: right;\">\n",
       "      <th></th>\n",
       "      <th>CustomerID</th>\n",
       "      <th>InvoiceNo</th>\n",
       "      <th>StockCode</th>\n",
       "      <th>Description</th>\n",
       "      <th>Quantity</th>\n",
       "      <th>InvoiceDate</th>\n",
       "      <th>UnitPrice</th>\n",
       "      <th>Country</th>\n",
       "      <th>total_transaction</th>\n",
       "      <th>Month</th>\n",
       "      <th>Year</th>\n",
       "      <th>Month_name</th>\n",
       "    </tr>\n",
       "    <tr>\n",
       "      <th>Churn</th>\n",
       "      <th></th>\n",
       "      <th></th>\n",
       "      <th></th>\n",
       "      <th></th>\n",
       "      <th></th>\n",
       "      <th></th>\n",
       "      <th></th>\n",
       "      <th></th>\n",
       "      <th></th>\n",
       "      <th></th>\n",
       "      <th></th>\n",
       "      <th></th>\n",
       "    </tr>\n",
       "  </thead>\n",
       "  <tbody>\n",
       "    <tr>\n",
       "      <th>No</th>\n",
       "      <td>3523</td>\n",
       "      <td>3523</td>\n",
       "      <td>3523</td>\n",
       "      <td>3523</td>\n",
       "      <td>3523</td>\n",
       "      <td>3523</td>\n",
       "      <td>3523</td>\n",
       "      <td>3523</td>\n",
       "      <td>3523</td>\n",
       "      <td>3523</td>\n",
       "      <td>3523</td>\n",
       "      <td>3523</td>\n",
       "    </tr>\n",
       "    <tr>\n",
       "      <th>Yes</th>\n",
       "      <td>849</td>\n",
       "      <td>849</td>\n",
       "      <td>849</td>\n",
       "      <td>849</td>\n",
       "      <td>849</td>\n",
       "      <td>849</td>\n",
       "      <td>849</td>\n",
       "      <td>849</td>\n",
       "      <td>849</td>\n",
       "      <td>849</td>\n",
       "      <td>849</td>\n",
       "      <td>849</td>\n",
       "    </tr>\n",
       "  </tbody>\n",
       "</table>\n",
       "</div>"
      ],
      "text/plain": [
       "       CustomerID  InvoiceNo  StockCode  Description  Quantity  InvoiceDate  \\\n",
       "Churn                                                                         \n",
       "No           3523       3523       3523         3523      3523         3523   \n",
       "Yes           849        849        849          849       849          849   \n",
       "\n",
       "       UnitPrice  Country  total_transaction  Month  Year  Month_name  \n",
       "Churn                                                                  \n",
       "No          3523     3523               3523   3523  3523        3523  \n",
       "Yes          849      849                849    849   849         849  "
      ]
     },
     "execution_count": 46,
     "metadata": {},
     "output_type": "execute_result"
    }
   ],
   "source": [
    "churn.head()"
   ]
  },
  {
   "cell_type": "code",
   "execution_count": 47,
   "metadata": {},
   "outputs": [
    {
     "data": {
      "text/plain": [
       "([<matplotlib.patches.Wedge at 0x24b542f4610>,\n",
       "  <matplotlib.patches.Wedge at 0x24b542f4ac0>],\n",
       " [Text(-0.9015706645541274, 0.6302145165064267, 'Aktif'),\n",
       "  Text(0.9015706350516557, -0.630214558711995, 'Churn')],\n",
       " [Text(-0.491765817029524, 0.3437533726398691, '81%'),\n",
       "  Text(0.49176580093726663, -0.34375339566108815, '19%')])"
      ]
     },
     "execution_count": 47,
     "metadata": {},
     "output_type": "execute_result"
    },
    {
     "data": {
      "image/png": "[encoded data removed]",
      "text/plain": [
       "<Figure size 432x288 with 1 Axes>"
      ]
     },
     "metadata": {},
     "output_type": "display_data"
    }
   ],
   "source": [
    "plt.pie(churn['CustomerID'], labels=['Aktif', 'Churn'], autopct='%1.0f%%')"
   ]
  },
  {
   "cell_type": "markdown",
   "metadata": {},
   "source": [
    "Based on the dataframe above, 849 of 4372 or approximately 19% of the total customers are categorized as churn."
   ]
  },
  {
   "cell_type": "markdown",
   "metadata": {},
   "source": [
    "## Thank You"
   ]
  }
 ],
 "metadata": {
  "kernelspec": {
   "display_name": "Python 3",
   "language": "python",
   "name": "python3"
  },
  "language_info": {
   "codemirror_mode": {
    "name": "ipython",
    "version": 3
   },
   "file_extension": ".py",
   "mimetype": "text/x-python",
   "name": "python",
   "nbconvert_exporter": "python",
   "pygments_lexer": "ipython3",
   "version": "3.8.3"
  }
 },
 "nbformat": 4,
 "nbformat_minor": 4
}
